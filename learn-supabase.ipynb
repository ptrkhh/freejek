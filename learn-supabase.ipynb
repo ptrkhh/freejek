{
 "cells": [
  {
   "cell_type": "code",
   "id": "initial_id",
   "metadata": {
    "collapsed": true,
    "jupyter": {
     "is_executing": true
    }
   },
   "source": [
    "import os\n",
    "from dotenv import load_dotenv\n",
    "from supabase import create_client\n",
    "\n",
    "load_dotenv()\n",
    "supabase = create_client(os.environ.get(\"SUPABASE_URL\"), os.environ.get(\"SUPABASE_KEY\"))"
   ],
   "outputs": [],
   "execution_count": null
  },
  {
   "metadata": {
    "ExecuteTime": {
     "end_time": "2024-11-09T17:32:16.018345Z",
     "start_time": "2024-11-09T17:32:15.501385Z"
    }
   },
   "cell_type": "code",
   "source": [
    "table = supabase.table('vehicle_model')\n",
    "results = table.select('*').execute()\n",
    "print(results)"
   ],
   "id": "c754dae94e478694",
   "outputs": [
    {
     "name": "stdout",
     "output_type": "stream",
     "text": [
      "data=[{'id': 'b6c0571f-20cf-43df-8263-24f9b0a43b12', 'make': 'Toyota', 'model': 'Calya', 'capacity': 7, 'class': 0, 'created_at': '2024-10-12T16:31:44.292602+00:00', 'propulsion': 'petrol', 'type': 'car'}] count=None\n"
     ]
    }
   ],
   "execution_count": 3
  },
  {
   "metadata": {
    "ExecuteTime": {
     "end_time": "2024-11-09T17:32:18.364769Z",
     "start_time": "2024-11-09T17:32:18.110550Z"
    }
   },
   "cell_type": "code",
   "source": [
    "new_item = {'make': 'Daihatsu', 'model': 'Sigra', 'capacity': 7, 'class': 0, 'propulsion': 'petrol', 'type': 'car'}\n",
    "\n",
    "table.insert(new_item).execute()\n",
    "\n",
    "results = table.select('*').execute()\n",
    "print(results)"
   ],
   "id": "acd5a17bcc4a0fbb",
   "outputs": [
    {
     "name": "stdout",
     "output_type": "stream",
     "text": [
      "data=[{'id': 'b6c0571f-20cf-43df-8263-24f9b0a43b12', 'make': 'Toyota', 'model': 'Calya', 'capacity': 7, 'class': 0, 'created_at': '2024-10-12T16:31:44.292602+00:00', 'propulsion': 'petrol', 'type': 'car'}, {'id': 'dab5c3a3-1e59-4a35-a9ee-6925406f1d07', 'make': 'Daihatsu', 'model': 'Sigra', 'capacity': 7, 'class': 0, 'created_at': '2024-11-09T17:30:20.506742+00:00', 'propulsion': 'petrol', 'type': 'car'}] count=None\n"
     ]
    }
   ],
   "execution_count": 4
  },
  {
   "metadata": {
    "ExecuteTime": {
     "end_time": "2024-11-09T17:34:11.800502Z",
     "start_time": "2024-11-09T17:34:11.442380Z"
    }
   },
   "cell_type": "code",
   "source": [
    "edit_item = {'make': 'Daihatsu', 'model': 'Ayla', 'capacity': 5, 'class': 0, 'propulsion': 'petrol', 'type': 'car'}\n",
    "table.update(edit_item).eq('model', 'Sigra').execute()\n",
    "\n",
    "results = table.select('*').execute()\n",
    "print(results)"
   ],
   "id": "5e633d6f574d47e5",
   "outputs": [
    {
     "name": "stdout",
     "output_type": "stream",
     "text": [
      "data=[{'id': 'b6c0571f-20cf-43df-8263-24f9b0a43b12', 'make': 'Toyota', 'model': 'Calya', 'capacity': 7, 'class': 0, 'created_at': '2024-10-12T16:31:44.292602+00:00', 'propulsion': 'petrol', 'type': 'car'}, {'id': 'dab5c3a3-1e59-4a35-a9ee-6925406f1d07', 'make': 'Daihatsu', 'model': 'Ayla', 'capacity': 5, 'class': 0, 'created_at': '2024-11-09T17:30:20.506742+00:00', 'propulsion': 'petrol', 'type': 'car'}] count=None\n"
     ]
    }
   ],
   "execution_count": 5
  },
  {
   "metadata": {
    "ExecuteTime": {
     "end_time": "2024-11-09T17:46:51.513572Z",
     "start_time": "2024-11-09T17:46:51.443695Z"
    }
   },
   "cell_type": "code",
   "source": [
    "calya_url = supabase.storage.from_('vehicle_model').get_public_url('b6c0571f-20cf-43df-8263-24f9b0a43b12.png')\n",
    "print(calya_url)"
   ],
   "id": "4dfa79d9544d77ab",
   "outputs": [
    {
     "name": "stdout",
     "output_type": "stream",
     "text": [
      "https://wgqajkdroolpmqtdlvlg.supabase.co/storage/v1/object/public/vehicle_model/b6c0571f-20cf-43df-8263-24f9b0a43b12.png?\n"
     ]
    }
   ],
   "execution_count": 7
  },
  {
   "metadata": {
    "ExecuteTime": {
     "end_time": "2024-11-09T17:57:04.732119Z",
     "start_time": "2024-11-09T17:57:04.719210Z"
    }
   },
   "cell_type": "code",
   "source": [
    "import uuid\n",
    "from pydantic import BaseModel\n",
    "\n",
    "class VehicleModel(BaseModel):\n",
    "    id: uuid.UUID\n",
    "    make: str\n",
    "    model: str\n",
    "    capacity: int\n",
    "    class: int\n",
    "    created_at: datetime\n",
    "    propulsion: str  # TODO enum\n",
    "    type: str  # TODO enum\n"
   ],
   "id": "87bdb3f1e62540e4",
   "outputs": [
    {
     "ename": "SyntaxError",
     "evalue": "invalid syntax (2121276042.py, line 9)",
     "output_type": "error",
     "traceback": [
      "\u001B[0;36m  Cell \u001B[0;32mIn[12], line 9\u001B[0;36m\u001B[0m\n\u001B[0;31m    class: int\u001B[0m\n\u001B[0m         ^\u001B[0m\n\u001B[0;31mSyntaxError\u001B[0m\u001B[0;31m:\u001B[0m invalid syntax\n"
     ]
    }
   ],
   "execution_count": 12
  }
 ],
 "metadata": {
  "kernelspec": {
   "display_name": "Python 3",
   "language": "python",
   "name": "python3"
  },
  "language_info": {
   "codemirror_mode": {
    "name": "ipython",
    "version": 2
   },
   "file_extension": ".py",
   "mimetype": "text/x-python",
   "name": "python",
   "nbconvert_exporter": "python",
   "pygments_lexer": "ipython2",
   "version": "2.7.6"
  }
 },
 "nbformat": 4,
 "nbformat_minor": 5
}
