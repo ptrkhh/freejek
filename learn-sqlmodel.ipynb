{
 "cells": [
  {
   "metadata": {
    "ExecuteTime": {
     "end_time": "2025-01-07T15:19:16.923391Z",
     "start_time": "2025-01-07T15:19:16.880873Z"
    }
   },
   "cell_type": "code",
   "source": [
    "import os\n",
    "\n",
    "from dotenv import load_dotenv\n",
    "from sqlmodel import create_engine\n",
    "\n",
    "load_dotenv()\n",
    "engine = create_engine(os.environ.get(\"POSTGRES_URL\"))"
   ],
   "id": "39d0c38c6e34e019",
   "outputs": [],
   "execution_count": 2
  },
  {
   "metadata": {
    "ExecuteTime": {
     "end_time": "2025-01-07T15:19:14.315613Z",
     "start_time": "2025-01-07T15:19:14.048680Z"
    }
   },
   "cell_type": "code",
   "source": [
    "import uuid\n",
    "import datetime\n",
    "import enum\n",
    "from typing import Optional\n",
    "\n",
    "from sqlmodel import Field, SQLModel\n",
    "\n",
    "\n",
    "class VehicleModel(SQLModel, table=True):\n",
    "    __tablename__ = \"vehicle_model\"\n",
    "    __table_args__ = {'extend_existing': True}\n",
    "    id: Optional[uuid.UUID] = Field(default=None, primary_key=True)\n",
    "    capacity: int\n",
    "    created_at: Optional[datetime.datetime] = Field(default_factory=datetime.datetime.utcnow, nullable=False)\n",
    "    vehicle_class: int\n",
    "    make: str\n",
    "    model: str\n",
    "\n",
    "    class VehicleType(enum.Enum):\n",
    "        CAR = \"CAR\"\n",
    "        MOTORCYCLE = \"MOTORCYCLE\"\n",
    "\n",
    "    type: VehicleType\n",
    "\n",
    "    class VehiclePropulsion(enum.Enum):\n",
    "        PETROL = \"PETROL\"\n",
    "        HYBRID = \"HYBRID\"\n",
    "        ELECTRIC = \"ELECTRIC\"\n",
    "        DIESEL = \"DIESEL\"\n",
    "\n",
    "    propulsion: VehiclePropulsion"
   ],
   "id": "454e4f8990d7f5b8",
   "outputs": [],
   "execution_count": 1
  },
  {
   "metadata": {
    "ExecuteTime": {
     "end_time": "2025-01-05T09:43:04.282428Z",
     "start_time": "2025-01-05T09:26:29.235387Z"
    }
   },
   "cell_type": "code",
   "source": [
    "from sqlmodel import Session\n",
    "\n",
    "sigra = VehicleModel(\n",
    "    make=\"Daihatsu\",\n",
    "    model=\"Sigra\",\n",
    "    propulsion=VehicleModel.VehiclePropulsion.PETROL,\n",
    "    type=VehicleModel.VehicleType.CAR,\n",
    "    vehicle_class=1,\n",
    "    capacity=7,\n",
    ")\n",
    "\n",
    "with Session(engine) as session:\n",
    "    session.add(sigra)\n",
    "    session.commit()"
   ],
   "id": "3893eb72a67e03ef",
   "outputs": [
    {
     "ename": "OperationalError",
     "evalue": "(psycopg2.OperationalError) could not receive data from server: Connection timed out\nSSL SYSCALL error: Connection timed out\n\n[SQL: INSERT INTO vehicle_model (capacity, created_at, vehicle_class, make, model, type, propulsion) VALUES (%(capacity)s, %(created_at)s, %(vehicle_class)s, %(make)s, %(model)s, %(type)s, %(propulsion)s) RETURNING vehicle_model.id]\n[parameters: {'capacity': 7, 'created_at': datetime.datetime(2025, 1, 5, 9, 26, 29, 307851), 'vehicle_class': 1, 'make': 'Daihatsu', 'model': 'Sigra', 'type': 'CAR', 'propulsion': 'PETROL'}]\n(Background on this error at: https://sqlalche.me/e/14/e3q8)",
     "output_type": "error",
     "traceback": [
      "\u001B[0;31m---------------------------------------------------------------------------\u001B[0m",
      "\u001B[0;31mOperationalError\u001B[0m                          Traceback (most recent call last)",
      "File \u001B[0;32m~/miniconda3/envs/freejek/lib/python3.11/site-packages/sqlalchemy/engine/base.py:1910\u001B[0m, in \u001B[0;36mConnection._execute_context\u001B[0;34m(self, dialect, constructor, statement, parameters, execution_options, *args, **kw)\u001B[0m\n\u001B[1;32m   1909\u001B[0m     \u001B[38;5;28;01mif\u001B[39;00m \u001B[38;5;129;01mnot\u001B[39;00m evt_handled:\n\u001B[0;32m-> 1910\u001B[0m         \u001B[38;5;28mself\u001B[39m\u001B[38;5;241m.\u001B[39mdialect\u001B[38;5;241m.\u001B[39mdo_execute(\n\u001B[1;32m   1911\u001B[0m             cursor, statement, parameters, context\n\u001B[1;32m   1912\u001B[0m         )\n\u001B[1;32m   1914\u001B[0m \u001B[38;5;28;01mif\u001B[39;00m \u001B[38;5;28mself\u001B[39m\u001B[38;5;241m.\u001B[39m_has_events \u001B[38;5;129;01mor\u001B[39;00m \u001B[38;5;28mself\u001B[39m\u001B[38;5;241m.\u001B[39mengine\u001B[38;5;241m.\u001B[39m_has_events:\n",
      "File \u001B[0;32m~/miniconda3/envs/freejek/lib/python3.11/site-packages/sqlalchemy/engine/default.py:736\u001B[0m, in \u001B[0;36mDefaultDialect.do_execute\u001B[0;34m(self, cursor, statement, parameters, context)\u001B[0m\n\u001B[1;32m    735\u001B[0m \u001B[38;5;28;01mdef\u001B[39;00m \u001B[38;5;21mdo_execute\u001B[39m(\u001B[38;5;28mself\u001B[39m, cursor, statement, parameters, context\u001B[38;5;241m=\u001B[39m\u001B[38;5;28;01mNone\u001B[39;00m):\n\u001B[0;32m--> 736\u001B[0m     cursor\u001B[38;5;241m.\u001B[39mexecute(statement, parameters)\n",
      "\u001B[0;31mOperationalError\u001B[0m: could not receive data from server: Connection timed out\nSSL SYSCALL error: Connection timed out\n",
      "\nThe above exception was the direct cause of the following exception:\n",
      "\u001B[0;31mOperationalError\u001B[0m                          Traceback (most recent call last)",
      "Cell \u001B[0;32mIn[24], line 14\u001B[0m\n\u001B[1;32m     12\u001B[0m \u001B[38;5;28;01mwith\u001B[39;00m Session(engine) \u001B[38;5;28;01mas\u001B[39;00m session:\n\u001B[1;32m     13\u001B[0m     session\u001B[38;5;241m.\u001B[39madd(sigra)\n\u001B[0;32m---> 14\u001B[0m     session\u001B[38;5;241m.\u001B[39mcommit()\n",
      "File \u001B[0;32m~/miniconda3/envs/freejek/lib/python3.11/site-packages/sqlalchemy/orm/session.py:1454\u001B[0m, in \u001B[0;36mSession.commit\u001B[0;34m(self)\u001B[0m\n\u001B[1;32m   1451\u001B[0m     \u001B[38;5;28;01mif\u001B[39;00m \u001B[38;5;129;01mnot\u001B[39;00m \u001B[38;5;28mself\u001B[39m\u001B[38;5;241m.\u001B[39m_autobegin():\n\u001B[1;32m   1452\u001B[0m         \u001B[38;5;28;01mraise\u001B[39;00m sa_exc\u001B[38;5;241m.\u001B[39mInvalidRequestError(\u001B[38;5;124m\"\u001B[39m\u001B[38;5;124mNo transaction is begun.\u001B[39m\u001B[38;5;124m\"\u001B[39m)\n\u001B[0;32m-> 1454\u001B[0m \u001B[38;5;28mself\u001B[39m\u001B[38;5;241m.\u001B[39m_transaction\u001B[38;5;241m.\u001B[39mcommit(_to_root\u001B[38;5;241m=\u001B[39m\u001B[38;5;28mself\u001B[39m\u001B[38;5;241m.\u001B[39mfuture)\n",
      "File \u001B[0;32m~/miniconda3/envs/freejek/lib/python3.11/site-packages/sqlalchemy/orm/session.py:832\u001B[0m, in \u001B[0;36mSessionTransaction.commit\u001B[0;34m(self, _to_root)\u001B[0m\n\u001B[1;32m    830\u001B[0m \u001B[38;5;28mself\u001B[39m\u001B[38;5;241m.\u001B[39m_assert_active(prepared_ok\u001B[38;5;241m=\u001B[39m\u001B[38;5;28;01mTrue\u001B[39;00m)\n\u001B[1;32m    831\u001B[0m \u001B[38;5;28;01mif\u001B[39;00m \u001B[38;5;28mself\u001B[39m\u001B[38;5;241m.\u001B[39m_state \u001B[38;5;129;01mis\u001B[39;00m \u001B[38;5;129;01mnot\u001B[39;00m PREPARED:\n\u001B[0;32m--> 832\u001B[0m     \u001B[38;5;28mself\u001B[39m\u001B[38;5;241m.\u001B[39m_prepare_impl()\n\u001B[1;32m    834\u001B[0m \u001B[38;5;28;01mif\u001B[39;00m \u001B[38;5;28mself\u001B[39m\u001B[38;5;241m.\u001B[39m_parent \u001B[38;5;129;01mis\u001B[39;00m \u001B[38;5;28;01mNone\u001B[39;00m \u001B[38;5;129;01mor\u001B[39;00m \u001B[38;5;28mself\u001B[39m\u001B[38;5;241m.\u001B[39mnested:\n\u001B[1;32m    835\u001B[0m     \u001B[38;5;28;01mfor\u001B[39;00m conn, trans, should_commit, autoclose \u001B[38;5;129;01min\u001B[39;00m \u001B[38;5;28mset\u001B[39m(\n\u001B[1;32m    836\u001B[0m         \u001B[38;5;28mself\u001B[39m\u001B[38;5;241m.\u001B[39m_connections\u001B[38;5;241m.\u001B[39mvalues()\n\u001B[1;32m    837\u001B[0m     ):\n",
      "File \u001B[0;32m~/miniconda3/envs/freejek/lib/python3.11/site-packages/sqlalchemy/orm/session.py:811\u001B[0m, in \u001B[0;36mSessionTransaction._prepare_impl\u001B[0;34m(self)\u001B[0m\n\u001B[1;32m    809\u001B[0m     \u001B[38;5;28;01mif\u001B[39;00m \u001B[38;5;28mself\u001B[39m\u001B[38;5;241m.\u001B[39msession\u001B[38;5;241m.\u001B[39m_is_clean():\n\u001B[1;32m    810\u001B[0m         \u001B[38;5;28;01mbreak\u001B[39;00m\n\u001B[0;32m--> 811\u001B[0m     \u001B[38;5;28mself\u001B[39m\u001B[38;5;241m.\u001B[39msession\u001B[38;5;241m.\u001B[39mflush()\n\u001B[1;32m    812\u001B[0m \u001B[38;5;28;01melse\u001B[39;00m:\n\u001B[1;32m    813\u001B[0m     \u001B[38;5;28;01mraise\u001B[39;00m exc\u001B[38;5;241m.\u001B[39mFlushError(\n\u001B[1;32m    814\u001B[0m         \u001B[38;5;124m\"\u001B[39m\u001B[38;5;124mOver 100 subsequent flushes have occurred within \u001B[39m\u001B[38;5;124m\"\u001B[39m\n\u001B[1;32m    815\u001B[0m         \u001B[38;5;124m\"\u001B[39m\u001B[38;5;124msession.commit() - is an after_flush() hook \u001B[39m\u001B[38;5;124m\"\u001B[39m\n\u001B[1;32m    816\u001B[0m         \u001B[38;5;124m\"\u001B[39m\u001B[38;5;124mcreating new objects?\u001B[39m\u001B[38;5;124m\"\u001B[39m\n\u001B[1;32m    817\u001B[0m     )\n",
      "File \u001B[0;32m~/miniconda3/envs/freejek/lib/python3.11/site-packages/sqlalchemy/orm/session.py:3449\u001B[0m, in \u001B[0;36mSession.flush\u001B[0;34m(self, objects)\u001B[0m\n\u001B[1;32m   3447\u001B[0m \u001B[38;5;28;01mtry\u001B[39;00m:\n\u001B[1;32m   3448\u001B[0m     \u001B[38;5;28mself\u001B[39m\u001B[38;5;241m.\u001B[39m_flushing \u001B[38;5;241m=\u001B[39m \u001B[38;5;28;01mTrue\u001B[39;00m\n\u001B[0;32m-> 3449\u001B[0m     \u001B[38;5;28mself\u001B[39m\u001B[38;5;241m.\u001B[39m_flush(objects)\n\u001B[1;32m   3450\u001B[0m \u001B[38;5;28;01mfinally\u001B[39;00m:\n\u001B[1;32m   3451\u001B[0m     \u001B[38;5;28mself\u001B[39m\u001B[38;5;241m.\u001B[39m_flushing \u001B[38;5;241m=\u001B[39m \u001B[38;5;28;01mFalse\u001B[39;00m\n",
      "File \u001B[0;32m~/miniconda3/envs/freejek/lib/python3.11/site-packages/sqlalchemy/orm/session.py:3588\u001B[0m, in \u001B[0;36mSession._flush\u001B[0;34m(self, objects)\u001B[0m\n\u001B[1;32m   3585\u001B[0m     transaction\u001B[38;5;241m.\u001B[39mcommit()\n\u001B[1;32m   3587\u001B[0m \u001B[38;5;28;01mexcept\u001B[39;00m:\n\u001B[0;32m-> 3588\u001B[0m     \u001B[38;5;28;01mwith\u001B[39;00m util\u001B[38;5;241m.\u001B[39msafe_reraise():\n\u001B[1;32m   3589\u001B[0m         transaction\u001B[38;5;241m.\u001B[39mrollback(_capture_exception\u001B[38;5;241m=\u001B[39m\u001B[38;5;28;01mTrue\u001B[39;00m)\n",
      "File \u001B[0;32m~/miniconda3/envs/freejek/lib/python3.11/site-packages/sqlalchemy/util/langhelpers.py:70\u001B[0m, in \u001B[0;36msafe_reraise.__exit__\u001B[0;34m(self, type_, value, traceback)\u001B[0m\n\u001B[1;32m     68\u001B[0m     \u001B[38;5;28mself\u001B[39m\u001B[38;5;241m.\u001B[39m_exc_info \u001B[38;5;241m=\u001B[39m \u001B[38;5;28;01mNone\u001B[39;00m  \u001B[38;5;66;03m# remove potential circular references\u001B[39;00m\n\u001B[1;32m     69\u001B[0m     \u001B[38;5;28;01mif\u001B[39;00m \u001B[38;5;129;01mnot\u001B[39;00m \u001B[38;5;28mself\u001B[39m\u001B[38;5;241m.\u001B[39mwarn_only:\n\u001B[0;32m---> 70\u001B[0m         compat\u001B[38;5;241m.\u001B[39mraise_(\n\u001B[1;32m     71\u001B[0m             exc_value,\n\u001B[1;32m     72\u001B[0m             with_traceback\u001B[38;5;241m=\u001B[39mexc_tb,\n\u001B[1;32m     73\u001B[0m         )\n\u001B[1;32m     74\u001B[0m \u001B[38;5;28;01melse\u001B[39;00m:\n\u001B[1;32m     75\u001B[0m     \u001B[38;5;28;01mif\u001B[39;00m \u001B[38;5;129;01mnot\u001B[39;00m compat\u001B[38;5;241m.\u001B[39mpy3k \u001B[38;5;129;01mand\u001B[39;00m \u001B[38;5;28mself\u001B[39m\u001B[38;5;241m.\u001B[39m_exc_info \u001B[38;5;129;01mand\u001B[39;00m \u001B[38;5;28mself\u001B[39m\u001B[38;5;241m.\u001B[39m_exc_info[\u001B[38;5;241m1\u001B[39m]:\n\u001B[1;32m     76\u001B[0m         \u001B[38;5;66;03m# emulate Py3K's behavior of telling us when an exception\u001B[39;00m\n\u001B[1;32m     77\u001B[0m         \u001B[38;5;66;03m# occurs in an exception handler.\u001B[39;00m\n",
      "File \u001B[0;32m~/miniconda3/envs/freejek/lib/python3.11/site-packages/sqlalchemy/util/compat.py:211\u001B[0m, in \u001B[0;36mraise_\u001B[0;34m(***failed resolving arguments***)\u001B[0m\n\u001B[1;32m    208\u001B[0m     exception\u001B[38;5;241m.\u001B[39m__cause__ \u001B[38;5;241m=\u001B[39m replace_context\n\u001B[1;32m    210\u001B[0m \u001B[38;5;28;01mtry\u001B[39;00m:\n\u001B[0;32m--> 211\u001B[0m     \u001B[38;5;28;01mraise\u001B[39;00m exception\n\u001B[1;32m    212\u001B[0m \u001B[38;5;28;01mfinally\u001B[39;00m:\n\u001B[1;32m    213\u001B[0m     \u001B[38;5;66;03m# credit to\u001B[39;00m\n\u001B[1;32m    214\u001B[0m     \u001B[38;5;66;03m# https://cosmicpercolator.com/2016/01/13/exception-leaks-in-python-2-and-3/\u001B[39;00m\n\u001B[1;32m    215\u001B[0m     \u001B[38;5;66;03m# as the __traceback__ object creates a cycle\u001B[39;00m\n\u001B[1;32m    216\u001B[0m     \u001B[38;5;28;01mdel\u001B[39;00m exception, replace_context, from_, with_traceback\n",
      "File \u001B[0;32m~/miniconda3/envs/freejek/lib/python3.11/site-packages/sqlalchemy/orm/session.py:3549\u001B[0m, in \u001B[0;36mSession._flush\u001B[0;34m(self, objects)\u001B[0m\n\u001B[1;32m   3547\u001B[0m \u001B[38;5;28mself\u001B[39m\u001B[38;5;241m.\u001B[39m_warn_on_events \u001B[38;5;241m=\u001B[39m \u001B[38;5;28;01mTrue\u001B[39;00m\n\u001B[1;32m   3548\u001B[0m \u001B[38;5;28;01mtry\u001B[39;00m:\n\u001B[0;32m-> 3549\u001B[0m     flush_context\u001B[38;5;241m.\u001B[39mexecute()\n\u001B[1;32m   3550\u001B[0m \u001B[38;5;28;01mfinally\u001B[39;00m:\n\u001B[1;32m   3551\u001B[0m     \u001B[38;5;28mself\u001B[39m\u001B[38;5;241m.\u001B[39m_warn_on_events \u001B[38;5;241m=\u001B[39m \u001B[38;5;28;01mFalse\u001B[39;00m\n",
      "File \u001B[0;32m~/miniconda3/envs/freejek/lib/python3.11/site-packages/sqlalchemy/orm/unitofwork.py:456\u001B[0m, in \u001B[0;36mUOWTransaction.execute\u001B[0;34m(self)\u001B[0m\n\u001B[1;32m    454\u001B[0m \u001B[38;5;28;01melse\u001B[39;00m:\n\u001B[1;32m    455\u001B[0m     \u001B[38;5;28;01mfor\u001B[39;00m rec \u001B[38;5;129;01min\u001B[39;00m topological\u001B[38;5;241m.\u001B[39msort(\u001B[38;5;28mself\u001B[39m\u001B[38;5;241m.\u001B[39mdependencies, postsort_actions):\n\u001B[0;32m--> 456\u001B[0m         rec\u001B[38;5;241m.\u001B[39mexecute(\u001B[38;5;28mself\u001B[39m)\n",
      "File \u001B[0;32m~/miniconda3/envs/freejek/lib/python3.11/site-packages/sqlalchemy/orm/unitofwork.py:630\u001B[0m, in \u001B[0;36mSaveUpdateAll.execute\u001B[0;34m(self, uow)\u001B[0m\n\u001B[1;32m    628\u001B[0m \u001B[38;5;129m@util\u001B[39m\u001B[38;5;241m.\u001B[39mpreload_module(\u001B[38;5;124m\"\u001B[39m\u001B[38;5;124msqlalchemy.orm.persistence\u001B[39m\u001B[38;5;124m\"\u001B[39m)\n\u001B[1;32m    629\u001B[0m \u001B[38;5;28;01mdef\u001B[39;00m \u001B[38;5;21mexecute\u001B[39m(\u001B[38;5;28mself\u001B[39m, uow):\n\u001B[0;32m--> 630\u001B[0m     util\u001B[38;5;241m.\u001B[39mpreloaded\u001B[38;5;241m.\u001B[39morm_persistence\u001B[38;5;241m.\u001B[39msave_obj(\n\u001B[1;32m    631\u001B[0m         \u001B[38;5;28mself\u001B[39m\u001B[38;5;241m.\u001B[39mmapper,\n\u001B[1;32m    632\u001B[0m         uow\u001B[38;5;241m.\u001B[39mstates_for_mapper_hierarchy(\u001B[38;5;28mself\u001B[39m\u001B[38;5;241m.\u001B[39mmapper, \u001B[38;5;28;01mFalse\u001B[39;00m, \u001B[38;5;28;01mFalse\u001B[39;00m),\n\u001B[1;32m    633\u001B[0m         uow,\n\u001B[1;32m    634\u001B[0m     )\n",
      "File \u001B[0;32m~/miniconda3/envs/freejek/lib/python3.11/site-packages/sqlalchemy/orm/persistence.py:245\u001B[0m, in \u001B[0;36msave_obj\u001B[0;34m(base_mapper, states, uowtransaction, single)\u001B[0m\n\u001B[1;32m    233\u001B[0m     update \u001B[38;5;241m=\u001B[39m _collect_update_commands(\n\u001B[1;32m    234\u001B[0m         uowtransaction, table, states_to_update\n\u001B[1;32m    235\u001B[0m     )\n\u001B[1;32m    237\u001B[0m     _emit_update_statements(\n\u001B[1;32m    238\u001B[0m         base_mapper,\n\u001B[1;32m    239\u001B[0m         uowtransaction,\n\u001B[0;32m   (...)\u001B[0m\n\u001B[1;32m    242\u001B[0m         update,\n\u001B[1;32m    243\u001B[0m     )\n\u001B[0;32m--> 245\u001B[0m     _emit_insert_statements(\n\u001B[1;32m    246\u001B[0m         base_mapper,\n\u001B[1;32m    247\u001B[0m         uowtransaction,\n\u001B[1;32m    248\u001B[0m         mapper,\n\u001B[1;32m    249\u001B[0m         table,\n\u001B[1;32m    250\u001B[0m         insert,\n\u001B[1;32m    251\u001B[0m     )\n\u001B[1;32m    253\u001B[0m _finalize_insert_update_commands(\n\u001B[1;32m    254\u001B[0m     base_mapper,\n\u001B[1;32m    255\u001B[0m     uowtransaction,\n\u001B[0;32m   (...)\u001B[0m\n\u001B[1;32m    271\u001B[0m     ),\n\u001B[1;32m    272\u001B[0m )\n",
      "File \u001B[0;32m~/miniconda3/envs/freejek/lib/python3.11/site-packages/sqlalchemy/orm/persistence.py:1238\u001B[0m, in \u001B[0;36m_emit_insert_statements\u001B[0;34m(base_mapper, uowtransaction, mapper, table, insert, bookkeeping)\u001B[0m\n\u001B[1;32m   1232\u001B[0m     result \u001B[38;5;241m=\u001B[39m connection\u001B[38;5;241m.\u001B[39m_execute_20(\n\u001B[1;32m   1233\u001B[0m         statement\u001B[38;5;241m.\u001B[39mvalues(value_params),\n\u001B[1;32m   1234\u001B[0m         params,\n\u001B[1;32m   1235\u001B[0m         execution_options\u001B[38;5;241m=\u001B[39mexecution_options,\n\u001B[1;32m   1236\u001B[0m     )\n\u001B[1;32m   1237\u001B[0m \u001B[38;5;28;01melse\u001B[39;00m:\n\u001B[0;32m-> 1238\u001B[0m     result \u001B[38;5;241m=\u001B[39m connection\u001B[38;5;241m.\u001B[39m_execute_20(\n\u001B[1;32m   1239\u001B[0m         statement,\n\u001B[1;32m   1240\u001B[0m         params,\n\u001B[1;32m   1241\u001B[0m         execution_options\u001B[38;5;241m=\u001B[39mexecution_options,\n\u001B[1;32m   1242\u001B[0m     )\n\u001B[1;32m   1244\u001B[0m primary_key \u001B[38;5;241m=\u001B[39m result\u001B[38;5;241m.\u001B[39minserted_primary_key\n\u001B[1;32m   1245\u001B[0m \u001B[38;5;28;01mif\u001B[39;00m primary_key \u001B[38;5;129;01mis\u001B[39;00m \u001B[38;5;28;01mNone\u001B[39;00m:\n",
      "File \u001B[0;32m~/miniconda3/envs/freejek/lib/python3.11/site-packages/sqlalchemy/engine/base.py:1710\u001B[0m, in \u001B[0;36mConnection._execute_20\u001B[0;34m(self, statement, parameters, execution_options)\u001B[0m\n\u001B[1;32m   1706\u001B[0m     util\u001B[38;5;241m.\u001B[39mraise_(\n\u001B[1;32m   1707\u001B[0m         exc\u001B[38;5;241m.\u001B[39mObjectNotExecutableError(statement), replace_context\u001B[38;5;241m=\u001B[39merr\n\u001B[1;32m   1708\u001B[0m     )\n\u001B[1;32m   1709\u001B[0m \u001B[38;5;28;01melse\u001B[39;00m:\n\u001B[0;32m-> 1710\u001B[0m     \u001B[38;5;28;01mreturn\u001B[39;00m meth(\u001B[38;5;28mself\u001B[39m, args_10style, kwargs_10style, execution_options)\n",
      "File \u001B[0;32m~/miniconda3/envs/freejek/lib/python3.11/site-packages/sqlalchemy/sql/elements.py:334\u001B[0m, in \u001B[0;36mClauseElement._execute_on_connection\u001B[0;34m(self, connection, multiparams, params, execution_options, _force)\u001B[0m\n\u001B[1;32m    330\u001B[0m \u001B[38;5;28;01mdef\u001B[39;00m \u001B[38;5;21m_execute_on_connection\u001B[39m(\n\u001B[1;32m    331\u001B[0m     \u001B[38;5;28mself\u001B[39m, connection, multiparams, params, execution_options, _force\u001B[38;5;241m=\u001B[39m\u001B[38;5;28;01mFalse\u001B[39;00m\n\u001B[1;32m    332\u001B[0m ):\n\u001B[1;32m    333\u001B[0m     \u001B[38;5;28;01mif\u001B[39;00m _force \u001B[38;5;129;01mor\u001B[39;00m \u001B[38;5;28mself\u001B[39m\u001B[38;5;241m.\u001B[39msupports_execution:\n\u001B[0;32m--> 334\u001B[0m         \u001B[38;5;28;01mreturn\u001B[39;00m connection\u001B[38;5;241m.\u001B[39m_execute_clauseelement(\n\u001B[1;32m    335\u001B[0m             \u001B[38;5;28mself\u001B[39m, multiparams, params, execution_options\n\u001B[1;32m    336\u001B[0m         )\n\u001B[1;32m    337\u001B[0m     \u001B[38;5;28;01melse\u001B[39;00m:\n\u001B[1;32m    338\u001B[0m         \u001B[38;5;28;01mraise\u001B[39;00m exc\u001B[38;5;241m.\u001B[39mObjectNotExecutableError(\u001B[38;5;28mself\u001B[39m)\n",
      "File \u001B[0;32m~/miniconda3/envs/freejek/lib/python3.11/site-packages/sqlalchemy/engine/base.py:1577\u001B[0m, in \u001B[0;36mConnection._execute_clauseelement\u001B[0;34m(self, elem, multiparams, params, execution_options)\u001B[0m\n\u001B[1;32m   1565\u001B[0m compiled_cache \u001B[38;5;241m=\u001B[39m execution_options\u001B[38;5;241m.\u001B[39mget(\n\u001B[1;32m   1566\u001B[0m     \u001B[38;5;124m\"\u001B[39m\u001B[38;5;124mcompiled_cache\u001B[39m\u001B[38;5;124m\"\u001B[39m, \u001B[38;5;28mself\u001B[39m\u001B[38;5;241m.\u001B[39mengine\u001B[38;5;241m.\u001B[39m_compiled_cache\n\u001B[1;32m   1567\u001B[0m )\n\u001B[1;32m   1569\u001B[0m compiled_sql, extracted_params, cache_hit \u001B[38;5;241m=\u001B[39m elem\u001B[38;5;241m.\u001B[39m_compile_w_cache(\n\u001B[1;32m   1570\u001B[0m     dialect\u001B[38;5;241m=\u001B[39mdialect,\n\u001B[1;32m   1571\u001B[0m     compiled_cache\u001B[38;5;241m=\u001B[39mcompiled_cache,\n\u001B[0;32m   (...)\u001B[0m\n\u001B[1;32m   1575\u001B[0m     linting\u001B[38;5;241m=\u001B[39m\u001B[38;5;28mself\u001B[39m\u001B[38;5;241m.\u001B[39mdialect\u001B[38;5;241m.\u001B[39mcompiler_linting \u001B[38;5;241m|\u001B[39m compiler\u001B[38;5;241m.\u001B[39mWARN_LINTING,\n\u001B[1;32m   1576\u001B[0m )\n\u001B[0;32m-> 1577\u001B[0m ret \u001B[38;5;241m=\u001B[39m \u001B[38;5;28mself\u001B[39m\u001B[38;5;241m.\u001B[39m_execute_context(\n\u001B[1;32m   1578\u001B[0m     dialect,\n\u001B[1;32m   1579\u001B[0m     dialect\u001B[38;5;241m.\u001B[39mexecution_ctx_cls\u001B[38;5;241m.\u001B[39m_init_compiled,\n\u001B[1;32m   1580\u001B[0m     compiled_sql,\n\u001B[1;32m   1581\u001B[0m     distilled_params,\n\u001B[1;32m   1582\u001B[0m     execution_options,\n\u001B[1;32m   1583\u001B[0m     compiled_sql,\n\u001B[1;32m   1584\u001B[0m     distilled_params,\n\u001B[1;32m   1585\u001B[0m     elem,\n\u001B[1;32m   1586\u001B[0m     extracted_params,\n\u001B[1;32m   1587\u001B[0m     cache_hit\u001B[38;5;241m=\u001B[39mcache_hit,\n\u001B[1;32m   1588\u001B[0m )\n\u001B[1;32m   1589\u001B[0m \u001B[38;5;28;01mif\u001B[39;00m has_events:\n\u001B[1;32m   1590\u001B[0m     \u001B[38;5;28mself\u001B[39m\u001B[38;5;241m.\u001B[39mdispatch\u001B[38;5;241m.\u001B[39mafter_execute(\n\u001B[1;32m   1591\u001B[0m         \u001B[38;5;28mself\u001B[39m,\n\u001B[1;32m   1592\u001B[0m         elem,\n\u001B[0;32m   (...)\u001B[0m\n\u001B[1;32m   1596\u001B[0m         ret,\n\u001B[1;32m   1597\u001B[0m     )\n",
      "File \u001B[0;32m~/miniconda3/envs/freejek/lib/python3.11/site-packages/sqlalchemy/engine/base.py:1953\u001B[0m, in \u001B[0;36mConnection._execute_context\u001B[0;34m(self, dialect, constructor, statement, parameters, execution_options, *args, **kw)\u001B[0m\n\u001B[1;32m   1950\u001B[0m             branched\u001B[38;5;241m.\u001B[39mclose()\n\u001B[1;32m   1952\u001B[0m \u001B[38;5;28;01mexcept\u001B[39;00m \u001B[38;5;167;01mBaseException\u001B[39;00m \u001B[38;5;28;01mas\u001B[39;00m e:\n\u001B[0;32m-> 1953\u001B[0m     \u001B[38;5;28mself\u001B[39m\u001B[38;5;241m.\u001B[39m_handle_dbapi_exception(\n\u001B[1;32m   1954\u001B[0m         e, statement, parameters, cursor, context\n\u001B[1;32m   1955\u001B[0m     )\n\u001B[1;32m   1957\u001B[0m \u001B[38;5;28;01mreturn\u001B[39;00m result\n",
      "File \u001B[0;32m~/miniconda3/envs/freejek/lib/python3.11/site-packages/sqlalchemy/engine/base.py:2134\u001B[0m, in \u001B[0;36mConnection._handle_dbapi_exception\u001B[0;34m(self, e, statement, parameters, cursor, context)\u001B[0m\n\u001B[1;32m   2132\u001B[0m     util\u001B[38;5;241m.\u001B[39mraise_(newraise, with_traceback\u001B[38;5;241m=\u001B[39mexc_info[\u001B[38;5;241m2\u001B[39m], from_\u001B[38;5;241m=\u001B[39me)\n\u001B[1;32m   2133\u001B[0m \u001B[38;5;28;01melif\u001B[39;00m should_wrap:\n\u001B[0;32m-> 2134\u001B[0m     util\u001B[38;5;241m.\u001B[39mraise_(\n\u001B[1;32m   2135\u001B[0m         sqlalchemy_exception, with_traceback\u001B[38;5;241m=\u001B[39mexc_info[\u001B[38;5;241m2\u001B[39m], from_\u001B[38;5;241m=\u001B[39me\n\u001B[1;32m   2136\u001B[0m     )\n\u001B[1;32m   2137\u001B[0m \u001B[38;5;28;01melse\u001B[39;00m:\n\u001B[1;32m   2138\u001B[0m     util\u001B[38;5;241m.\u001B[39mraise_(exc_info[\u001B[38;5;241m1\u001B[39m], with_traceback\u001B[38;5;241m=\u001B[39mexc_info[\u001B[38;5;241m2\u001B[39m])\n",
      "File \u001B[0;32m~/miniconda3/envs/freejek/lib/python3.11/site-packages/sqlalchemy/util/compat.py:211\u001B[0m, in \u001B[0;36mraise_\u001B[0;34m(***failed resolving arguments***)\u001B[0m\n\u001B[1;32m    208\u001B[0m     exception\u001B[38;5;241m.\u001B[39m__cause__ \u001B[38;5;241m=\u001B[39m replace_context\n\u001B[1;32m    210\u001B[0m \u001B[38;5;28;01mtry\u001B[39;00m:\n\u001B[0;32m--> 211\u001B[0m     \u001B[38;5;28;01mraise\u001B[39;00m exception\n\u001B[1;32m    212\u001B[0m \u001B[38;5;28;01mfinally\u001B[39;00m:\n\u001B[1;32m    213\u001B[0m     \u001B[38;5;66;03m# credit to\u001B[39;00m\n\u001B[1;32m    214\u001B[0m     \u001B[38;5;66;03m# https://cosmicpercolator.com/2016/01/13/exception-leaks-in-python-2-and-3/\u001B[39;00m\n\u001B[1;32m    215\u001B[0m     \u001B[38;5;66;03m# as the __traceback__ object creates a cycle\u001B[39;00m\n\u001B[1;32m    216\u001B[0m     \u001B[38;5;28;01mdel\u001B[39;00m exception, replace_context, from_, with_traceback\n",
      "File \u001B[0;32m~/miniconda3/envs/freejek/lib/python3.11/site-packages/sqlalchemy/engine/base.py:1910\u001B[0m, in \u001B[0;36mConnection._execute_context\u001B[0;34m(self, dialect, constructor, statement, parameters, execution_options, *args, **kw)\u001B[0m\n\u001B[1;32m   1908\u001B[0m                 \u001B[38;5;28;01mbreak\u001B[39;00m\n\u001B[1;32m   1909\u001B[0m     \u001B[38;5;28;01mif\u001B[39;00m \u001B[38;5;129;01mnot\u001B[39;00m evt_handled:\n\u001B[0;32m-> 1910\u001B[0m         \u001B[38;5;28mself\u001B[39m\u001B[38;5;241m.\u001B[39mdialect\u001B[38;5;241m.\u001B[39mdo_execute(\n\u001B[1;32m   1911\u001B[0m             cursor, statement, parameters, context\n\u001B[1;32m   1912\u001B[0m         )\n\u001B[1;32m   1914\u001B[0m \u001B[38;5;28;01mif\u001B[39;00m \u001B[38;5;28mself\u001B[39m\u001B[38;5;241m.\u001B[39m_has_events \u001B[38;5;129;01mor\u001B[39;00m \u001B[38;5;28mself\u001B[39m\u001B[38;5;241m.\u001B[39mengine\u001B[38;5;241m.\u001B[39m_has_events:\n\u001B[1;32m   1915\u001B[0m     \u001B[38;5;28mself\u001B[39m\u001B[38;5;241m.\u001B[39mdispatch\u001B[38;5;241m.\u001B[39mafter_cursor_execute(\n\u001B[1;32m   1916\u001B[0m         \u001B[38;5;28mself\u001B[39m,\n\u001B[1;32m   1917\u001B[0m         cursor,\n\u001B[0;32m   (...)\u001B[0m\n\u001B[1;32m   1921\u001B[0m         context\u001B[38;5;241m.\u001B[39mexecutemany,\n\u001B[1;32m   1922\u001B[0m     )\n",
      "File \u001B[0;32m~/miniconda3/envs/freejek/lib/python3.11/site-packages/sqlalchemy/engine/default.py:736\u001B[0m, in \u001B[0;36mDefaultDialect.do_execute\u001B[0;34m(self, cursor, statement, parameters, context)\u001B[0m\n\u001B[1;32m    735\u001B[0m \u001B[38;5;28;01mdef\u001B[39;00m \u001B[38;5;21mdo_execute\u001B[39m(\u001B[38;5;28mself\u001B[39m, cursor, statement, parameters, context\u001B[38;5;241m=\u001B[39m\u001B[38;5;28;01mNone\u001B[39;00m):\n\u001B[0;32m--> 736\u001B[0m     cursor\u001B[38;5;241m.\u001B[39mexecute(statement, parameters)\n",
      "\u001B[0;31mOperationalError\u001B[0m: (psycopg2.OperationalError) could not receive data from server: Connection timed out\nSSL SYSCALL error: Connection timed out\n\n[SQL: INSERT INTO vehicle_model (capacity, created_at, vehicle_class, make, model, type, propulsion) VALUES (%(capacity)s, %(created_at)s, %(vehicle_class)s, %(make)s, %(model)s, %(type)s, %(propulsion)s) RETURNING vehicle_model.id]\n[parameters: {'capacity': 7, 'created_at': datetime.datetime(2025, 1, 5, 9, 26, 29, 307851), 'vehicle_class': 1, 'make': 'Daihatsu', 'model': 'Sigra', 'type': 'CAR', 'propulsion': 'PETROL'}]\n(Background on this error at: https://sqlalche.me/e/14/e3q8)"
     ]
    }
   ],
   "execution_count": 24
  },
  {
   "metadata": {
    "ExecuteTime": {
     "end_time": "2025-01-07T15:19:39.419966Z",
     "start_time": "2025-01-07T15:19:29.205386Z"
    }
   },
   "cell_type": "code",
   "source": [
    "from typing import List\n",
    "from sqlmodel import select, or_\n",
    "from sqlmodel import Session\n",
    "\n",
    "\n",
    "def get_all_vehicle_models():\n",
    "    statement = select(VehicleModel).where(or_(VehicleModel.make == \"Daihatsu\", VehicleModel.make == \"Toyota\"))\n",
    "    results: List[VehicleModel] = session.execute(statement).scalars().all()\n",
    "    return results\n",
    "\n",
    "\n",
    "with Session(engine) as session:\n",
    "    results = get_all_vehicle_models()\n",
    "    print(results)\n",
    "    # for i in results:\n",
    "    #     print(type(i))\n",
    "    #     print(i.capacity)\n",
    "    #     i.capacity = i.capacity - 1\n",
    "    # session.commit()\n",
    "    # print(get_all_vehicle_models())"
   ],
   "id": "6cd53e4f3712251a",
   "outputs": [
    {
     "name": "stdout",
     "output_type": "stream",
     "text": [
      "[VehicleModel(capacity=5, id=UUID('b6c0571f-20cf-43df-8263-24f9b0a43b12'), vehicle_class=0, model='Calya', propulsion=<VehiclePropulsion.PETROL: 'PETROL'>, created_at=datetime.datetime(2024, 10, 12, 16, 31, 44, 292602, tzinfo=datetime.timezone.utc), make='Toyota', type=<VehicleType.CAR: 'CAR'>), VehicleModel(capacity=3, id=UUID('dab5c3a3-1e59-4a35-a9ee-6925406f1d07'), vehicle_class=0, model='Ayla', propulsion=<VehiclePropulsion.PETROL: 'PETROL'>, created_at=datetime.datetime(2024, 11, 9, 17, 30, 20, 506742, tzinfo=datetime.timezone.utc), make='Daihatsu', type=<VehicleType.CAR: 'CAR'>)]\n"
     ]
    }
   ],
   "execution_count": 4
  },
  {
   "metadata": {
    "ExecuteTime": {
     "end_time": "2025-01-05T08:07:40.819274Z",
     "start_time": "2025-01-05T08:07:34.345430Z"
    }
   },
   "cell_type": "code",
   "source": [
    "import time\n",
    "\n",
    "with Session(engine) as session:\n",
    "    statement = select(VehicleModel).where(VehicleModel.model == \"Sigra\")\n",
    "    results = session.exec(statement)\n",
    "    car = results.one()\n",
    "    print(\"Car: \", car)\n",
    "    time.sleep(1)\n",
    "    input(\"Confirm delete?\")\n",
    "    session.delete(car)\n",
    "    session.commit()\n",
    "    print(get_all_vehicle_models())"
   ],
   "id": "3d742937339c5a44",
   "outputs": [
    {
     "name": "stdout",
     "output_type": "stream",
     "text": [
      "Car:  vehicle_class=1 id=UUID('7e69ea7d-dc9f-4aa4-8856-8c2ec3bd632c') capacity=5 model='Sigra' propulsion=<VehiclePropulsion.PETROL: 'PETROL'> created_at=datetime.datetime(2025, 1, 5, 7, 35, 6, 132653, tzinfo=datetime.timezone.utc) make='Daihatsu' type=<VehicleType.CAR: 'CAR'>\n",
      "[VehicleModel(vehicle_class=0, id=UUID('b6c0571f-20cf-43df-8263-24f9b0a43b12'), capacity=5, model='Calya', propulsion=<VehiclePropulsion.PETROL: 'PETROL'>, created_at=datetime.datetime(2024, 10, 12, 16, 31, 44, 292602, tzinfo=datetime.timezone.utc), make='Toyota', type=<VehicleType.CAR: 'CAR'>), VehicleModel(vehicle_class=0, id=UUID('dab5c3a3-1e59-4a35-a9ee-6925406f1d07'), capacity=3, model='Ayla', propulsion=<VehiclePropulsion.PETROL: 'PETROL'>, created_at=datetime.datetime(2024, 11, 9, 17, 30, 20, 506742, tzinfo=datetime.timezone.utc), make='Daihatsu', type=<VehicleType.CAR: 'CAR'>)]\n"
     ]
    }
   ],
   "execution_count": 23
  },
  {
   "metadata": {
    "ExecuteTime": {
     "end_time": "2025-01-05T15:27:21.375683Z",
     "start_time": "2025-01-05T15:27:18.856150Z"
    }
   },
   "cell_type": "code",
   "source": [
    "import uuid\n",
    "from typing import Optional\n",
    "\n",
    "from sqlmodel import Field, SQLModel, Session, select, Relationship\n",
    "\n",
    "\n",
    "class VehicleModel(SQLModel, table=True):\n",
    "    __tablename__ = \"vehicle_model\"\n",
    "    __table_args__ = {'extend_existing': True}\n",
    "\n",
    "    id: Optional[uuid.UUID] = Field(default=None, primary_key=True)\n",
    "    # capacity: int\n",
    "    # created_at: Optional[datetime.datetime] = Field(default_factory=datetime.datetime.utcnow, nullable=False)\n",
    "    # vehicle_class: int\n",
    "    # make: str\n",
    "    # model: str\n",
    "    #\n",
    "    # class VehicleType(enum.Enum):\n",
    "    #     CAR = \"CAR\"\n",
    "    #     MOTORCYCLE = \"MOTORCYCLE\"\n",
    "    # type: VehicleType\n",
    "    #\n",
    "    # class VehiclePropulsion(enum.Enum):\n",
    "    #     PETROL = \"PETROL\"\n",
    "    #     HYBRID = \"HYBRID\"\n",
    "    #     ELECTRIC = \"ELECTRIC\"\n",
    "    #     DIESEL = \"DIESEL\"\n",
    "    # propulsion: VehiclePropulsion\n",
    "    vehicle_units: list[\"VehicleUnit\"] = Relationship(back_populates=\"vehicle_model\")\n",
    "\n",
    "\n",
    "class VehicleUnit(SQLModel, table=True):\n",
    "    __tablename__ = \"vehicle_unit\"\n",
    "    __table_args__ = {'extend_existing': True}\n",
    "\n",
    "    id: Optional[uuid.UUID] = Field(default=None, primary_key=True)\n",
    "    # driver_id: uuid.UUID = Field(foreign_key=\"driver.id\")\n",
    "    # vehicle_year: int\n",
    "    # vehicle_color: str\n",
    "    # license_plate: str\n",
    "    # deleted_at: datetime.datetime | None = Field(default=None)\n",
    "    # updated_at: datetime.datetime | None = Field(\n",
    "    #     default_factory=lambda: datetime.datetime.now(datetime.timezone.utc),\n",
    "    #     nullable=False,\n",
    "    #     sa_column_kwargs={\"onupdate\": lambda: datetime.datetime.now(datetime.timezone.utc)},\n",
    "    # )\n",
    "    # created_at: Optional[datetime.datetime]\n",
    "    # photo_1: str | None = Field(default=None)\n",
    "    # photo_2: str | None = Field(default=None)\n",
    "    # photo_3: str | None = Field(default=None)\n",
    "    vehicle_id: uuid.UUID = Field(default=None, foreign_key=\"vehicle_model.id\")\n",
    "    vehicle_model: \"VehicleModel\" = Relationship(back_populates=\"vehicle_units\")\n",
    "\n",
    "\n",
    "def get_all_vehicle_units():\n",
    "    statement = select(VehicleUnit)\n",
    "    results: List[VehicleUnit] = session.execute(statement).scalars().all()\n",
    "    return results\n",
    "\n",
    "\n",
    "with Session(engine) as session:\n",
    "    results = get_all_vehicle_units()\n",
    "    print(results)\n",
    "    print([i.vehicle_model.model for i in results])\n",
    "\n"
   ],
   "id": "5b1df52cfcefa047",
   "outputs": [
    {
     "name": "stdout",
     "output_type": "stream",
     "text": [
      "[VehicleUnit(vehicle_id=UUID('dab5c3a3-1e59-4a35-a9ee-6925406f1d07'), id=UUID('6da38e1b-d9e8-4e68-9c50-6ebca6fa9ae4'))]\n"
     ]
    },
    {
     "ename": "AttributeError",
     "evalue": "'VehicleModel' object has no attribute 'model'",
     "output_type": "error",
     "traceback": [
      "\u001B[0;31m---------------------------------------------------------------------------\u001B[0m",
      "\u001B[0;31mAttributeError\u001B[0m                            Traceback (most recent call last)",
      "Cell \u001B[0;32mIn[2], line 65\u001B[0m\n\u001B[1;32m     63\u001B[0m results \u001B[38;5;241m=\u001B[39m get_all_vehicle_units()\n\u001B[1;32m     64\u001B[0m \u001B[38;5;28mprint\u001B[39m(results)\n\u001B[0;32m---> 65\u001B[0m \u001B[38;5;28mprint\u001B[39m([i\u001B[38;5;241m.\u001B[39mvehicle_model\u001B[38;5;241m.\u001B[39mmodel \u001B[38;5;28;01mfor\u001B[39;00m i \u001B[38;5;129;01min\u001B[39;00m results])\n",
      "Cell \u001B[0;32mIn[2], line 65\u001B[0m, in \u001B[0;36m<listcomp>\u001B[0;34m(.0)\u001B[0m\n\u001B[1;32m     63\u001B[0m results \u001B[38;5;241m=\u001B[39m get_all_vehicle_units()\n\u001B[1;32m     64\u001B[0m \u001B[38;5;28mprint\u001B[39m(results)\n\u001B[0;32m---> 65\u001B[0m \u001B[38;5;28mprint\u001B[39m([i\u001B[38;5;241m.\u001B[39mvehicle_model\u001B[38;5;241m.\u001B[39mmodel \u001B[38;5;28;01mfor\u001B[39;00m i \u001B[38;5;129;01min\u001B[39;00m results])\n",
      "\u001B[0;31mAttributeError\u001B[0m: 'VehicleModel' object has no attribute 'model'"
     ]
    }
   ],
   "execution_count": 2
  },
  {
   "metadata": {
    "ExecuteTime": {
     "end_time": "2025-01-05T13:58:27.434587Z",
     "start_time": "2025-01-05T13:58:27.074353Z"
    }
   },
   "cell_type": "code",
   "source": [
    " with Session(engine) as session:\n",
    "    statement = select(VehicleUnit, VehicleModel).join(VehicleModel)\n",
    "    results = session.exec(statement).all()\n",
    "    print(results)\n",
    "    for vu, vm in results:\n",
    "        print(\"Vehicle Model:\", vm, \"\\nVehicle Unit:\", vu, \"\\n\")"
   ],
   "id": "d79d42316d83add2",
   "outputs": [
    {
     "name": "stdout",
     "output_type": "stream",
     "text": [
      "[(VehicleUnit(vehicle_color='Silver', driver_id=UUID('ca65506a-6ce8-492d-9c64-e0047bdb7723'), deleted_at=None, updated_at=datetime.datetime(2025, 1, 5,  ... (183 characters truncated) ... -1e59-4a35-a9ee-6925406f1d07'), created_at=datetime.datetime(2025, 1, 5, 9, 27, 21, 957164, tzinfo=datetime.timezone.utc), photo_1=None, photo_3=None), VehicleModel(id=UUID('dab5c3a3-1e59-4a35-a9ee-6925406f1d07'), vehicle_class=0, model='Ayla', propulsion=<VehiclePropulsion.PETROL: 'PETROL'>, make='Daihatsu', created_at=datetime.datetime(2024, 11, 9, 17, 30, 20, 506742, tzinfo=datetime.timezone.utc), capacity=3, type=<VehicleType.CAR: 'CAR'>))]\n",
      "Vehicle Model: vehicle_color='Silver' driver_id=UUID('ca65506a-6ce8-492d-9c64-e0047bdb7723') deleted_at=None updated_at=datetime.datetime(2025, 1, 5, 9, 27, 21, 957164, tzinfo=datetime.timezone.utc) photo_2=None id=UUID('6da38e1b-d9e8-4e68-9c50-6ebca6fa9ae4') vehicle_year=2020 license_plate='B1234ABC' vehicle_id=UUID('dab5c3a3-1e59-4a35-a9ee-6925406f1d07') created_at=datetime.datetime(2025, 1, 5, 9, 27, 21, 957164, tzinfo=datetime.timezone.utc) photo_1=None photo_3=None \n",
      "Vehicle Unit: id=UUID('dab5c3a3-1e59-4a35-a9ee-6925406f1d07') vehicle_class=0 model='Ayla' propulsion=<VehiclePropulsion.PETROL: 'PETROL'> make='Daihatsu' created_at=datetime.datetime(2024, 11, 9, 17, 30, 20, 506742, tzinfo=datetime.timezone.utc) capacity=3 type=<VehicleType.CAR: 'CAR'> \n",
      "\n"
     ]
    }
   ],
   "execution_count": 42
  },
  {
   "metadata": {
    "ExecuteTime": {
     "end_time": "2025-01-05T14:38:59.772090Z",
     "start_time": "2025-01-05T14:38:59.116641Z"
    }
   },
   "cell_type": "code",
   "source": [
    " with Session(engine) as session:\n",
    "    statement = select(VehicleUnit)\n",
    "    results: List[VehicleUnit] = session.exec(statement).scalars().all()\n",
    "    print(results)\n",
    "    for vu in results:\n",
    "        print(vu.vehicle_model.model, \"\\n\")"
   ],
   "id": "611b157fa6985e8",
   "outputs": [
    {
     "ename": "InvalidRequestError",
     "evalue": "One or more mappers failed to initialize - can't proceed with initialization of other mappers. Triggering mapper: 'mapped class VehicleUnit->vehicle_unit'. Original exception was: Mapper 'mapped class VehicleModel->vehicle_model' has no property 'vehicle_model'",
     "output_type": "error",
     "traceback": [
      "\u001B[0;31m---------------------------------------------------------------------------\u001B[0m",
      "\u001B[0;31mInvalidRequestError\u001B[0m                       Traceback (most recent call last)",
      "Cell \u001B[0;32mIn[44], line 3\u001B[0m\n\u001B[1;32m      1\u001B[0m \u001B[38;5;28;01mwith\u001B[39;00m Session(engine) \u001B[38;5;28;01mas\u001B[39;00m session:\n\u001B[1;32m      2\u001B[0m    statement \u001B[38;5;241m=\u001B[39m select(VehicleUnit)\n\u001B[0;32m----> 3\u001B[0m    results: List[VehicleUnit] \u001B[38;5;241m=\u001B[39m session\u001B[38;5;241m.\u001B[39mexec(statement)\u001B[38;5;241m.\u001B[39mscalars()\u001B[38;5;241m.\u001B[39mall()\n\u001B[1;32m      4\u001B[0m    \u001B[38;5;28mprint\u001B[39m(results)\n\u001B[1;32m      5\u001B[0m    \u001B[38;5;28;01mfor\u001B[39;00m vu \u001B[38;5;129;01min\u001B[39;00m results:\n",
      "File \u001B[0;32m~/miniconda3/envs/freejek/lib/python3.11/site-packages/sqlmodel/orm/session.py:60\u001B[0m, in \u001B[0;36mSession.exec\u001B[0;34m(self, statement, params, execution_options, bind_arguments, _parent_execute_state, _add_event, **kw)\u001B[0m\n\u001B[1;32m     45\u001B[0m \u001B[38;5;28;01mdef\u001B[39;00m \u001B[38;5;21mexec\u001B[39m(\n\u001B[1;32m     46\u001B[0m     \u001B[38;5;28mself\u001B[39m,\n\u001B[1;32m     47\u001B[0m     statement: Union[\n\u001B[0;32m   (...)\u001B[0m\n\u001B[1;32m     58\u001B[0m     \u001B[38;5;241m*\u001B[39m\u001B[38;5;241m*\u001B[39mkw: Any,\n\u001B[1;32m     59\u001B[0m ) \u001B[38;5;241m-\u001B[39m\u001B[38;5;241m>\u001B[39m Union[Result[_TSelectParam], ScalarResult[_TSelectParam]]:\n\u001B[0;32m---> 60\u001B[0m     results \u001B[38;5;241m=\u001B[39m \u001B[38;5;28msuper\u001B[39m()\u001B[38;5;241m.\u001B[39mexecute(\n\u001B[1;32m     61\u001B[0m         statement,\n\u001B[1;32m     62\u001B[0m         params\u001B[38;5;241m=\u001B[39mparams,\n\u001B[1;32m     63\u001B[0m         execution_options\u001B[38;5;241m=\u001B[39mexecution_options,\n\u001B[1;32m     64\u001B[0m         bind_arguments\u001B[38;5;241m=\u001B[39mbind_arguments,\n\u001B[1;32m     65\u001B[0m         _parent_execute_state\u001B[38;5;241m=\u001B[39m_parent_execute_state,\n\u001B[1;32m     66\u001B[0m         _add_event\u001B[38;5;241m=\u001B[39m_add_event,\n\u001B[1;32m     67\u001B[0m         \u001B[38;5;241m*\u001B[39m\u001B[38;5;241m*\u001B[39mkw,\n\u001B[1;32m     68\u001B[0m     )\n\u001B[1;32m     69\u001B[0m     \u001B[38;5;28;01mif\u001B[39;00m \u001B[38;5;28misinstance\u001B[39m(statement, SelectOfScalar):\n\u001B[1;32m     70\u001B[0m         \u001B[38;5;28;01mreturn\u001B[39;00m results\u001B[38;5;241m.\u001B[39mscalars()  \u001B[38;5;66;03m# type: ignore\u001B[39;00m\n",
      "File \u001B[0;32m~/miniconda3/envs/freejek/lib/python3.11/site-packages/sqlalchemy/orm/session.py:1717\u001B[0m, in \u001B[0;36mSession.execute\u001B[0;34m(self, statement, params, execution_options, bind_arguments, _parent_execute_state, _add_event, **kw)\u001B[0m\n\u001B[1;32m   1715\u001B[0m \u001B[38;5;28;01melse\u001B[39;00m:\n\u001B[1;32m   1716\u001B[0m     conn \u001B[38;5;241m=\u001B[39m \u001B[38;5;28mself\u001B[39m\u001B[38;5;241m.\u001B[39m_connection_for_bind(bind)\n\u001B[0;32m-> 1717\u001B[0m result \u001B[38;5;241m=\u001B[39m conn\u001B[38;5;241m.\u001B[39m_execute_20(statement, params \u001B[38;5;129;01mor\u001B[39;00m {}, execution_options)\n\u001B[1;32m   1719\u001B[0m \u001B[38;5;28;01mif\u001B[39;00m compile_state_cls:\n\u001B[1;32m   1720\u001B[0m     result \u001B[38;5;241m=\u001B[39m compile_state_cls\u001B[38;5;241m.\u001B[39morm_setup_cursor_result(\n\u001B[1;32m   1721\u001B[0m         \u001B[38;5;28mself\u001B[39m,\n\u001B[1;32m   1722\u001B[0m         statement,\n\u001B[0;32m   (...)\u001B[0m\n\u001B[1;32m   1726\u001B[0m         result,\n\u001B[1;32m   1727\u001B[0m     )\n",
      "File \u001B[0;32m~/miniconda3/envs/freejek/lib/python3.11/site-packages/sqlalchemy/engine/base.py:1710\u001B[0m, in \u001B[0;36mConnection._execute_20\u001B[0;34m(self, statement, parameters, execution_options)\u001B[0m\n\u001B[1;32m   1706\u001B[0m     util\u001B[38;5;241m.\u001B[39mraise_(\n\u001B[1;32m   1707\u001B[0m         exc\u001B[38;5;241m.\u001B[39mObjectNotExecutableError(statement), replace_context\u001B[38;5;241m=\u001B[39merr\n\u001B[1;32m   1708\u001B[0m     )\n\u001B[1;32m   1709\u001B[0m \u001B[38;5;28;01melse\u001B[39;00m:\n\u001B[0;32m-> 1710\u001B[0m     \u001B[38;5;28;01mreturn\u001B[39;00m meth(\u001B[38;5;28mself\u001B[39m, args_10style, kwargs_10style, execution_options)\n",
      "File \u001B[0;32m~/miniconda3/envs/freejek/lib/python3.11/site-packages/sqlalchemy/sql/elements.py:334\u001B[0m, in \u001B[0;36mClauseElement._execute_on_connection\u001B[0;34m(self, connection, multiparams, params, execution_options, _force)\u001B[0m\n\u001B[1;32m    330\u001B[0m \u001B[38;5;28;01mdef\u001B[39;00m \u001B[38;5;21m_execute_on_connection\u001B[39m(\n\u001B[1;32m    331\u001B[0m     \u001B[38;5;28mself\u001B[39m, connection, multiparams, params, execution_options, _force\u001B[38;5;241m=\u001B[39m\u001B[38;5;28;01mFalse\u001B[39;00m\n\u001B[1;32m    332\u001B[0m ):\n\u001B[1;32m    333\u001B[0m     \u001B[38;5;28;01mif\u001B[39;00m _force \u001B[38;5;129;01mor\u001B[39;00m \u001B[38;5;28mself\u001B[39m\u001B[38;5;241m.\u001B[39msupports_execution:\n\u001B[0;32m--> 334\u001B[0m         \u001B[38;5;28;01mreturn\u001B[39;00m connection\u001B[38;5;241m.\u001B[39m_execute_clauseelement(\n\u001B[1;32m    335\u001B[0m             \u001B[38;5;28mself\u001B[39m, multiparams, params, execution_options\n\u001B[1;32m    336\u001B[0m         )\n\u001B[1;32m    337\u001B[0m     \u001B[38;5;28;01melse\u001B[39;00m:\n\u001B[1;32m    338\u001B[0m         \u001B[38;5;28;01mraise\u001B[39;00m exc\u001B[38;5;241m.\u001B[39mObjectNotExecutableError(\u001B[38;5;28mself\u001B[39m)\n",
      "File \u001B[0;32m~/miniconda3/envs/freejek/lib/python3.11/site-packages/sqlalchemy/engine/base.py:1569\u001B[0m, in \u001B[0;36mConnection._execute_clauseelement\u001B[0;34m(self, elem, multiparams, params, execution_options)\u001B[0m\n\u001B[1;32m   1561\u001B[0m schema_translate_map \u001B[38;5;241m=\u001B[39m execution_options\u001B[38;5;241m.\u001B[39mget(\n\u001B[1;32m   1562\u001B[0m     \u001B[38;5;124m\"\u001B[39m\u001B[38;5;124mschema_translate_map\u001B[39m\u001B[38;5;124m\"\u001B[39m, \u001B[38;5;28;01mNone\u001B[39;00m\n\u001B[1;32m   1563\u001B[0m )\n\u001B[1;32m   1565\u001B[0m compiled_cache \u001B[38;5;241m=\u001B[39m execution_options\u001B[38;5;241m.\u001B[39mget(\n\u001B[1;32m   1566\u001B[0m     \u001B[38;5;124m\"\u001B[39m\u001B[38;5;124mcompiled_cache\u001B[39m\u001B[38;5;124m\"\u001B[39m, \u001B[38;5;28mself\u001B[39m\u001B[38;5;241m.\u001B[39mengine\u001B[38;5;241m.\u001B[39m_compiled_cache\n\u001B[1;32m   1567\u001B[0m )\n\u001B[0;32m-> 1569\u001B[0m compiled_sql, extracted_params, cache_hit \u001B[38;5;241m=\u001B[39m elem\u001B[38;5;241m.\u001B[39m_compile_w_cache(\n\u001B[1;32m   1570\u001B[0m     dialect\u001B[38;5;241m=\u001B[39mdialect,\n\u001B[1;32m   1571\u001B[0m     compiled_cache\u001B[38;5;241m=\u001B[39mcompiled_cache,\n\u001B[1;32m   1572\u001B[0m     column_keys\u001B[38;5;241m=\u001B[39mkeys,\n\u001B[1;32m   1573\u001B[0m     for_executemany\u001B[38;5;241m=\u001B[39mfor_executemany,\n\u001B[1;32m   1574\u001B[0m     schema_translate_map\u001B[38;5;241m=\u001B[39mschema_translate_map,\n\u001B[1;32m   1575\u001B[0m     linting\u001B[38;5;241m=\u001B[39m\u001B[38;5;28mself\u001B[39m\u001B[38;5;241m.\u001B[39mdialect\u001B[38;5;241m.\u001B[39mcompiler_linting \u001B[38;5;241m|\u001B[39m compiler\u001B[38;5;241m.\u001B[39mWARN_LINTING,\n\u001B[1;32m   1576\u001B[0m )\n\u001B[1;32m   1577\u001B[0m ret \u001B[38;5;241m=\u001B[39m \u001B[38;5;28mself\u001B[39m\u001B[38;5;241m.\u001B[39m_execute_context(\n\u001B[1;32m   1578\u001B[0m     dialect,\n\u001B[1;32m   1579\u001B[0m     dialect\u001B[38;5;241m.\u001B[39mexecution_ctx_cls\u001B[38;5;241m.\u001B[39m_init_compiled,\n\u001B[0;32m   (...)\u001B[0m\n\u001B[1;32m   1587\u001B[0m     cache_hit\u001B[38;5;241m=\u001B[39mcache_hit,\n\u001B[1;32m   1588\u001B[0m )\n\u001B[1;32m   1589\u001B[0m \u001B[38;5;28;01mif\u001B[39;00m has_events:\n",
      "File \u001B[0;32m~/miniconda3/envs/freejek/lib/python3.11/site-packages/sqlalchemy/sql/elements.py:532\u001B[0m, in \u001B[0;36mClauseElement._compile_w_cache\u001B[0;34m(self, dialect, compiled_cache, column_keys, for_executemany, schema_translate_map, **kw)\u001B[0m\n\u001B[1;32m    530\u001B[0m \u001B[38;5;28;01mif\u001B[39;00m compiled_sql \u001B[38;5;129;01mis\u001B[39;00m \u001B[38;5;28;01mNone\u001B[39;00m:\n\u001B[1;32m    531\u001B[0m     cache_hit \u001B[38;5;241m=\u001B[39m dialect\u001B[38;5;241m.\u001B[39mCACHE_MISS\n\u001B[0;32m--> 532\u001B[0m     compiled_sql \u001B[38;5;241m=\u001B[39m \u001B[38;5;28mself\u001B[39m\u001B[38;5;241m.\u001B[39m_compiler(\n\u001B[1;32m    533\u001B[0m         dialect,\n\u001B[1;32m    534\u001B[0m         cache_key\u001B[38;5;241m=\u001B[39melem_cache_key,\n\u001B[1;32m    535\u001B[0m         column_keys\u001B[38;5;241m=\u001B[39mcolumn_keys,\n\u001B[1;32m    536\u001B[0m         for_executemany\u001B[38;5;241m=\u001B[39mfor_executemany,\n\u001B[1;32m    537\u001B[0m         schema_translate_map\u001B[38;5;241m=\u001B[39mschema_translate_map,\n\u001B[1;32m    538\u001B[0m         \u001B[38;5;241m*\u001B[39m\u001B[38;5;241m*\u001B[39mkw\n\u001B[1;32m    539\u001B[0m     )\n\u001B[1;32m    540\u001B[0m     compiled_cache[key] \u001B[38;5;241m=\u001B[39m compiled_sql\n\u001B[1;32m    541\u001B[0m \u001B[38;5;28;01melse\u001B[39;00m:\n",
      "File \u001B[0;32m~/miniconda3/envs/freejek/lib/python3.11/site-packages/sqlalchemy/sql/elements.py:567\u001B[0m, in \u001B[0;36mClauseElement._compiler\u001B[0;34m(self, dialect, **kw)\u001B[0m\n\u001B[1;32m    563\u001B[0m \u001B[38;5;28;01mdef\u001B[39;00m \u001B[38;5;21m_compiler\u001B[39m(\u001B[38;5;28mself\u001B[39m, dialect, \u001B[38;5;241m*\u001B[39m\u001B[38;5;241m*\u001B[39mkw):\n\u001B[1;32m    564\u001B[0m \u001B[38;5;250m    \u001B[39m\u001B[38;5;124;03m\"\"\"Return a compiler appropriate for this ClauseElement, given a\u001B[39;00m\n\u001B[1;32m    565\u001B[0m \u001B[38;5;124;03m    Dialect.\"\"\"\u001B[39;00m\n\u001B[0;32m--> 567\u001B[0m     \u001B[38;5;28;01mreturn\u001B[39;00m dialect\u001B[38;5;241m.\u001B[39mstatement_compiler(dialect, \u001B[38;5;28mself\u001B[39m, \u001B[38;5;241m*\u001B[39m\u001B[38;5;241m*\u001B[39mkw)\n",
      "File \u001B[0;32m~/miniconda3/envs/freejek/lib/python3.11/site-packages/sqlalchemy/sql/compiler.py:809\u001B[0m, in \u001B[0;36mSQLCompiler.__init__\u001B[0;34m(self, dialect, statement, cache_key, column_keys, for_executemany, linting, **kwargs)\u001B[0m\n\u001B[1;32m    805\u001B[0m \u001B[38;5;66;03m# a map which tracks \"truncated\" names based on\u001B[39;00m\n\u001B[1;32m    806\u001B[0m \u001B[38;5;66;03m# dialect.label_length or dialect.max_identifier_length\u001B[39;00m\n\u001B[1;32m    807\u001B[0m \u001B[38;5;28mself\u001B[39m\u001B[38;5;241m.\u001B[39mtruncated_names \u001B[38;5;241m=\u001B[39m {}\n\u001B[0;32m--> 809\u001B[0m Compiled\u001B[38;5;241m.\u001B[39m\u001B[38;5;21m__init__\u001B[39m(\u001B[38;5;28mself\u001B[39m, dialect, statement, \u001B[38;5;241m*\u001B[39m\u001B[38;5;241m*\u001B[39mkwargs)\n\u001B[1;32m    811\u001B[0m \u001B[38;5;28;01mif\u001B[39;00m \u001B[38;5;28mself\u001B[39m\u001B[38;5;241m.\u001B[39misinsert \u001B[38;5;129;01mor\u001B[39;00m \u001B[38;5;28mself\u001B[39m\u001B[38;5;241m.\u001B[39misupdate \u001B[38;5;129;01mor\u001B[39;00m \u001B[38;5;28mself\u001B[39m\u001B[38;5;241m.\u001B[39misdelete:\n\u001B[1;32m    812\u001B[0m     \u001B[38;5;28;01mif\u001B[39;00m statement\u001B[38;5;241m.\u001B[39m_returning:\n",
      "File \u001B[0;32m~/miniconda3/envs/freejek/lib/python3.11/site-packages/sqlalchemy/sql/compiler.py:464\u001B[0m, in \u001B[0;36mCompiled.__init__\u001B[0;34m(self, dialect, statement, schema_translate_map, render_schema_translate, compile_kwargs)\u001B[0m\n\u001B[1;32m    462\u001B[0m \u001B[38;5;28;01mif\u001B[39;00m \u001B[38;5;28mself\u001B[39m\u001B[38;5;241m.\u001B[39mcan_execute:\n\u001B[1;32m    463\u001B[0m     \u001B[38;5;28mself\u001B[39m\u001B[38;5;241m.\u001B[39mexecution_options \u001B[38;5;241m=\u001B[39m statement\u001B[38;5;241m.\u001B[39m_execution_options\n\u001B[0;32m--> 464\u001B[0m \u001B[38;5;28mself\u001B[39m\u001B[38;5;241m.\u001B[39mstring \u001B[38;5;241m=\u001B[39m \u001B[38;5;28mself\u001B[39m\u001B[38;5;241m.\u001B[39mprocess(\u001B[38;5;28mself\u001B[39m\u001B[38;5;241m.\u001B[39mstatement, \u001B[38;5;241m*\u001B[39m\u001B[38;5;241m*\u001B[39mcompile_kwargs)\n\u001B[1;32m    466\u001B[0m \u001B[38;5;28;01mif\u001B[39;00m render_schema_translate:\n\u001B[1;32m    467\u001B[0m     \u001B[38;5;28mself\u001B[39m\u001B[38;5;241m.\u001B[39mstring \u001B[38;5;241m=\u001B[39m \u001B[38;5;28mself\u001B[39m\u001B[38;5;241m.\u001B[39mpreparer\u001B[38;5;241m.\u001B[39m_render_schema_translates(\n\u001B[1;32m    468\u001B[0m         \u001B[38;5;28mself\u001B[39m\u001B[38;5;241m.\u001B[39mstring, schema_translate_map\n\u001B[1;32m    469\u001B[0m     )\n",
      "File \u001B[0;32m~/miniconda3/envs/freejek/lib/python3.11/site-packages/sqlalchemy/sql/compiler.py:499\u001B[0m, in \u001B[0;36mCompiled.process\u001B[0;34m(self, obj, **kwargs)\u001B[0m\n\u001B[1;32m    498\u001B[0m \u001B[38;5;28;01mdef\u001B[39;00m \u001B[38;5;21mprocess\u001B[39m(\u001B[38;5;28mself\u001B[39m, obj, \u001B[38;5;241m*\u001B[39m\u001B[38;5;241m*\u001B[39mkwargs):\n\u001B[0;32m--> 499\u001B[0m     \u001B[38;5;28;01mreturn\u001B[39;00m obj\u001B[38;5;241m.\u001B[39m_compiler_dispatch(\u001B[38;5;28mself\u001B[39m, \u001B[38;5;241m*\u001B[39m\u001B[38;5;241m*\u001B[39mkwargs)\n",
      "File \u001B[0;32m~/miniconda3/envs/freejek/lib/python3.11/site-packages/sqlalchemy/sql/visitors.py:82\u001B[0m, in \u001B[0;36m_generate_compiler_dispatch.<locals>._compiler_dispatch\u001B[0;34m(self, visitor, **kw)\u001B[0m\n\u001B[1;32m     79\u001B[0m     \u001B[38;5;28;01mreturn\u001B[39;00m visitor\u001B[38;5;241m.\u001B[39mvisit_unsupported_compilation(\u001B[38;5;28mself\u001B[39m, err, \u001B[38;5;241m*\u001B[39m\u001B[38;5;241m*\u001B[39mkw)\n\u001B[1;32m     81\u001B[0m \u001B[38;5;28;01melse\u001B[39;00m:\n\u001B[0;32m---> 82\u001B[0m     \u001B[38;5;28;01mreturn\u001B[39;00m meth(\u001B[38;5;28mself\u001B[39m, \u001B[38;5;241m*\u001B[39m\u001B[38;5;241m*\u001B[39mkw)\n",
      "File \u001B[0;32m~/miniconda3/envs/freejek/lib/python3.11/site-packages/sqlalchemy/sql/compiler.py:3403\u001B[0m, in \u001B[0;36mSQLCompiler.visit_select\u001B[0;34m(self, select_stmt, asfrom, insert_into, fromhints, compound_index, select_wraps_for, lateral, from_linter, **kwargs)\u001B[0m\n\u001B[1;32m   3395\u001B[0m \u001B[38;5;66;03m# initial setup of SELECT.  the compile_state_factory may now\u001B[39;00m\n\u001B[1;32m   3396\u001B[0m \u001B[38;5;66;03m# be creating a totally different SELECT from the one that was\u001B[39;00m\n\u001B[1;32m   3397\u001B[0m \u001B[38;5;66;03m# passed in.  for ORM use this will convert from an ORM-state\u001B[39;00m\n\u001B[1;32m   3398\u001B[0m \u001B[38;5;66;03m# SELECT to a regular \"Core\" SELECT.  other composed operations\u001B[39;00m\n\u001B[1;32m   3399\u001B[0m \u001B[38;5;66;03m# such as computation of joins will be performed.\u001B[39;00m\n\u001B[1;32m   3401\u001B[0m kwargs[\u001B[38;5;124m\"\u001B[39m\u001B[38;5;124mwithin_columns_clause\u001B[39m\u001B[38;5;124m\"\u001B[39m] \u001B[38;5;241m=\u001B[39m \u001B[38;5;28;01mFalse\u001B[39;00m\n\u001B[0;32m-> 3403\u001B[0m compile_state \u001B[38;5;241m=\u001B[39m select_stmt\u001B[38;5;241m.\u001B[39m_compile_state_factory(\n\u001B[1;32m   3404\u001B[0m     select_stmt, \u001B[38;5;28mself\u001B[39m, \u001B[38;5;241m*\u001B[39m\u001B[38;5;241m*\u001B[39mkwargs\n\u001B[1;32m   3405\u001B[0m )\n\u001B[1;32m   3406\u001B[0m select_stmt \u001B[38;5;241m=\u001B[39m compile_state\u001B[38;5;241m.\u001B[39mstatement\n\u001B[1;32m   3408\u001B[0m toplevel \u001B[38;5;241m=\u001B[39m \u001B[38;5;129;01mnot\u001B[39;00m \u001B[38;5;28mself\u001B[39m\u001B[38;5;241m.\u001B[39mstack\n",
      "File \u001B[0;32m~/miniconda3/envs/freejek/lib/python3.11/site-packages/sqlalchemy/sql/base.py:510\u001B[0m, in \u001B[0;36mCompileState.create_for_statement\u001B[0;34m(cls, statement, compiler, **kw)\u001B[0m\n\u001B[1;32m    508\u001B[0m     \u001B[38;5;28;01mreturn\u001B[39;00m \u001B[38;5;28mcls\u001B[39m(statement, compiler, \u001B[38;5;241m*\u001B[39m\u001B[38;5;241m*\u001B[39mkw)\n\u001B[1;32m    509\u001B[0m \u001B[38;5;28;01melse\u001B[39;00m:\n\u001B[0;32m--> 510\u001B[0m     \u001B[38;5;28;01mreturn\u001B[39;00m klass\u001B[38;5;241m.\u001B[39mcreate_for_statement(statement, compiler, \u001B[38;5;241m*\u001B[39m\u001B[38;5;241m*\u001B[39mkw)\n",
      "File \u001B[0;32m~/miniconda3/envs/freejek/lib/python3.11/site-packages/sqlalchemy/orm/context.py:701\u001B[0m, in \u001B[0;36mORMSelectCompileState.create_for_statement\u001B[0;34m(cls, statement, compiler, **kw)\u001B[0m\n\u001B[1;32m    693\u001B[0m \u001B[38;5;66;03m# label_convention is stateful and will yield deduping keys if it\u001B[39;00m\n\u001B[1;32m    694\u001B[0m \u001B[38;5;66;03m# sees the same key twice.  therefore it's important that it is not\u001B[39;00m\n\u001B[1;32m    695\u001B[0m \u001B[38;5;66;03m# invoked for the above \"memoized\" entities that aren't actually\u001B[39;00m\n\u001B[1;32m    696\u001B[0m \u001B[38;5;66;03m# in the columns clause\u001B[39;00m\n\u001B[1;32m    697\u001B[0m \u001B[38;5;28mself\u001B[39m\u001B[38;5;241m.\u001B[39m_label_convention \u001B[38;5;241m=\u001B[39m \u001B[38;5;28mself\u001B[39m\u001B[38;5;241m.\u001B[39m_column_naming_convention(\n\u001B[1;32m    698\u001B[0m     statement\u001B[38;5;241m.\u001B[39m_label_style, \u001B[38;5;28mself\u001B[39m\u001B[38;5;241m.\u001B[39muse_legacy_query_style\n\u001B[1;32m    699\u001B[0m )\n\u001B[0;32m--> 701\u001B[0m _QueryEntity\u001B[38;5;241m.\u001B[39mto_compile_state(\n\u001B[1;32m    702\u001B[0m     \u001B[38;5;28mself\u001B[39m,\n\u001B[1;32m    703\u001B[0m     select_statement\u001B[38;5;241m.\u001B[39m_raw_columns,\n\u001B[1;32m    704\u001B[0m     \u001B[38;5;28mself\u001B[39m\u001B[38;5;241m.\u001B[39m_entities,\n\u001B[1;32m    705\u001B[0m     is_current_entities\u001B[38;5;241m=\u001B[39m\u001B[38;5;28;01mTrue\u001B[39;00m,\n\u001B[1;32m    706\u001B[0m )\n\u001B[1;32m    708\u001B[0m \u001B[38;5;28mself\u001B[39m\u001B[38;5;241m.\u001B[39mcurrent_path \u001B[38;5;241m=\u001B[39m select_statement\u001B[38;5;241m.\u001B[39m_compile_options\u001B[38;5;241m.\u001B[39m_current_path\n\u001B[1;32m    710\u001B[0m \u001B[38;5;28mself\u001B[39m\u001B[38;5;241m.\u001B[39meager_order_by \u001B[38;5;241m=\u001B[39m ()\n",
      "File \u001B[0;32m~/miniconda3/envs/freejek/lib/python3.11/site-packages/sqlalchemy/orm/context.py:2458\u001B[0m, in \u001B[0;36m_QueryEntity.to_compile_state\u001B[0;34m(cls, compile_state, entities, entities_collection, is_current_entities)\u001B[0m\n\u001B[1;32m   2456\u001B[0m \u001B[38;5;28;01mif\u001B[39;00m entity\u001B[38;5;241m.\u001B[39mis_selectable:\n\u001B[1;32m   2457\u001B[0m     \u001B[38;5;28;01mif\u001B[39;00m \u001B[38;5;124m\"\u001B[39m\u001B[38;5;124mparententity\u001B[39m\u001B[38;5;124m\"\u001B[39m \u001B[38;5;129;01min\u001B[39;00m entity\u001B[38;5;241m.\u001B[39m_annotations:\n\u001B[0;32m-> 2458\u001B[0m         _MapperEntity(\n\u001B[1;32m   2459\u001B[0m             compile_state,\n\u001B[1;32m   2460\u001B[0m             entity,\n\u001B[1;32m   2461\u001B[0m             entities_collection,\n\u001B[1;32m   2462\u001B[0m             is_current_entities,\n\u001B[1;32m   2463\u001B[0m         )\n\u001B[1;32m   2464\u001B[0m     \u001B[38;5;28;01melse\u001B[39;00m:\n\u001B[1;32m   2465\u001B[0m         _ColumnEntity\u001B[38;5;241m.\u001B[39m_for_columns(\n\u001B[1;32m   2466\u001B[0m             compile_state,\n\u001B[1;32m   2467\u001B[0m             entity\u001B[38;5;241m.\u001B[39m_select_iterable,\n\u001B[0;32m   (...)\u001B[0m\n\u001B[1;32m   2470\u001B[0m             is_current_entities,\n\u001B[1;32m   2471\u001B[0m         )\n",
      "File \u001B[0;32m~/miniconda3/envs/freejek/lib/python3.11/site-packages/sqlalchemy/orm/context.py:2531\u001B[0m, in \u001B[0;36m_MapperEntity.__init__\u001B[0;34m(self, compile_state, entity, entities_collection, is_current_entities)\u001B[0m\n\u001B[1;32m   2528\u001B[0m     compile_state\u001B[38;5;241m.\u001B[39m_has_orm_entities \u001B[38;5;241m=\u001B[39m \u001B[38;5;28;01mTrue\u001B[39;00m\n\u001B[1;32m   2530\u001B[0m entity \u001B[38;5;241m=\u001B[39m entity\u001B[38;5;241m.\u001B[39m_annotations[\u001B[38;5;124m\"\u001B[39m\u001B[38;5;124mparententity\u001B[39m\u001B[38;5;124m\"\u001B[39m]\n\u001B[0;32m-> 2531\u001B[0m entity\u001B[38;5;241m.\u001B[39m_post_inspect\n\u001B[1;32m   2532\u001B[0m ext_info \u001B[38;5;241m=\u001B[39m \u001B[38;5;28mself\u001B[39m\u001B[38;5;241m.\u001B[39mentity_zero \u001B[38;5;241m=\u001B[39m entity\n\u001B[1;32m   2533\u001B[0m entity \u001B[38;5;241m=\u001B[39m ext_info\u001B[38;5;241m.\u001B[39mentity\n",
      "File \u001B[0;32m~/miniconda3/envs/freejek/lib/python3.11/site-packages/sqlalchemy/util/langhelpers.py:1184\u001B[0m, in \u001B[0;36mHasMemoized.memoized_attribute.__get__\u001B[0;34m(self, obj, cls)\u001B[0m\n\u001B[1;32m   1182\u001B[0m \u001B[38;5;28;01mif\u001B[39;00m obj \u001B[38;5;129;01mis\u001B[39;00m \u001B[38;5;28;01mNone\u001B[39;00m:\n\u001B[1;32m   1183\u001B[0m     \u001B[38;5;28;01mreturn\u001B[39;00m \u001B[38;5;28mself\u001B[39m\n\u001B[0;32m-> 1184\u001B[0m obj\u001B[38;5;241m.\u001B[39m\u001B[38;5;18m__dict__\u001B[39m[\u001B[38;5;28mself\u001B[39m\u001B[38;5;241m.\u001B[39m\u001B[38;5;18m__name__\u001B[39m] \u001B[38;5;241m=\u001B[39m result \u001B[38;5;241m=\u001B[39m \u001B[38;5;28mself\u001B[39m\u001B[38;5;241m.\u001B[39mfget(obj)\n\u001B[1;32m   1185\u001B[0m obj\u001B[38;5;241m.\u001B[39m_memoized_keys \u001B[38;5;241m|\u001B[39m\u001B[38;5;241m=\u001B[39m {\u001B[38;5;28mself\u001B[39m\u001B[38;5;241m.\u001B[39m\u001B[38;5;18m__name__\u001B[39m}\n\u001B[1;32m   1186\u001B[0m \u001B[38;5;28;01mreturn\u001B[39;00m result\n",
      "File \u001B[0;32m~/miniconda3/envs/freejek/lib/python3.11/site-packages/sqlalchemy/orm/mapper.py:2199\u001B[0m, in \u001B[0;36mMapper._post_inspect\u001B[0;34m(self)\u001B[0m\n\u001B[1;32m   2188\u001B[0m \u001B[38;5;129m@HasMemoized\u001B[39m\u001B[38;5;241m.\u001B[39mmemoized_attribute\n\u001B[1;32m   2189\u001B[0m \u001B[38;5;28;01mdef\u001B[39;00m \u001B[38;5;21m_post_inspect\u001B[39m(\u001B[38;5;28mself\u001B[39m):\n\u001B[1;32m   2190\u001B[0m \u001B[38;5;250m    \u001B[39m\u001B[38;5;124;03m\"\"\"This hook is invoked by attribute inspection.\u001B[39;00m\n\u001B[1;32m   2191\u001B[0m \n\u001B[1;32m   2192\u001B[0m \u001B[38;5;124;03m    E.g. when Query calls:\u001B[39;00m\n\u001B[0;32m   (...)\u001B[0m\n\u001B[1;32m   2197\u001B[0m \n\u001B[1;32m   2198\u001B[0m \u001B[38;5;124;03m    \"\"\"\u001B[39;00m\n\u001B[0;32m-> 2199\u001B[0m     \u001B[38;5;28mself\u001B[39m\u001B[38;5;241m.\u001B[39m_check_configure()\n",
      "File \u001B[0;32m~/miniconda3/envs/freejek/lib/python3.11/site-packages/sqlalchemy/orm/mapper.py:1941\u001B[0m, in \u001B[0;36mMapper._check_configure\u001B[0;34m(self)\u001B[0m\n\u001B[1;32m   1939\u001B[0m \u001B[38;5;28;01mdef\u001B[39;00m \u001B[38;5;21m_check_configure\u001B[39m(\u001B[38;5;28mself\u001B[39m):\n\u001B[1;32m   1940\u001B[0m     \u001B[38;5;28;01mif\u001B[39;00m \u001B[38;5;28mself\u001B[39m\u001B[38;5;241m.\u001B[39mregistry\u001B[38;5;241m.\u001B[39m_new_mappers:\n\u001B[0;32m-> 1941\u001B[0m         _configure_registries({\u001B[38;5;28mself\u001B[39m\u001B[38;5;241m.\u001B[39mregistry}, cascade\u001B[38;5;241m=\u001B[39m\u001B[38;5;28;01mTrue\u001B[39;00m)\n",
      "File \u001B[0;32m~/miniconda3/envs/freejek/lib/python3.11/site-packages/sqlalchemy/orm/mapper.py:3527\u001B[0m, in \u001B[0;36m_configure_registries\u001B[0;34m(registries, cascade)\u001B[0m\n\u001B[1;32m   3521\u001B[0m     Mapper\u001B[38;5;241m.\u001B[39mdispatch\u001B[38;5;241m.\u001B[39m_for_class(Mapper)\u001B[38;5;241m.\u001B[39mbefore_configured()\n\u001B[1;32m   3522\u001B[0m     \u001B[38;5;66;03m# initialize properties on all mappers\u001B[39;00m\n\u001B[1;32m   3523\u001B[0m     \u001B[38;5;66;03m# note that _mapper_registry is unordered, which\u001B[39;00m\n\u001B[1;32m   3524\u001B[0m     \u001B[38;5;66;03m# may randomly conceal/reveal issues related to\u001B[39;00m\n\u001B[1;32m   3525\u001B[0m     \u001B[38;5;66;03m# the order of mapper compilation\u001B[39;00m\n\u001B[0;32m-> 3527\u001B[0m     _do_configure_registries(registries, cascade)\n\u001B[1;32m   3528\u001B[0m \u001B[38;5;28;01mfinally\u001B[39;00m:\n\u001B[1;32m   3529\u001B[0m     _already_compiling \u001B[38;5;241m=\u001B[39m \u001B[38;5;28;01mFalse\u001B[39;00m\n",
      "File \u001B[0;32m~/miniconda3/envs/freejek/lib/python3.11/site-packages/sqlalchemy/orm/mapper.py:3562\u001B[0m, in \u001B[0;36m_do_configure_registries\u001B[0;34m(registries, cascade)\u001B[0m\n\u001B[1;32m   3554\u001B[0m     e \u001B[38;5;241m=\u001B[39m sa_exc\u001B[38;5;241m.\u001B[39mInvalidRequestError(\n\u001B[1;32m   3555\u001B[0m         \u001B[38;5;124m\"\u001B[39m\u001B[38;5;124mOne or more mappers failed to initialize - \u001B[39m\u001B[38;5;124m\"\u001B[39m\n\u001B[1;32m   3556\u001B[0m         \u001B[38;5;124m\"\u001B[39m\u001B[38;5;124mcan\u001B[39m\u001B[38;5;124m'\u001B[39m\u001B[38;5;124mt proceed with initialization of other \u001B[39m\u001B[38;5;124m\"\u001B[39m\n\u001B[0;32m   (...)\u001B[0m\n\u001B[1;32m   3559\u001B[0m         \u001B[38;5;241m%\u001B[39m (mapper, mapper\u001B[38;5;241m.\u001B[39m_configure_failed)\n\u001B[1;32m   3560\u001B[0m     )\n\u001B[1;32m   3561\u001B[0m     e\u001B[38;5;241m.\u001B[39m_configure_failed \u001B[38;5;241m=\u001B[39m mapper\u001B[38;5;241m.\u001B[39m_configure_failed\n\u001B[0;32m-> 3562\u001B[0m     \u001B[38;5;28;01mraise\u001B[39;00m e\n\u001B[1;32m   3564\u001B[0m \u001B[38;5;28;01mif\u001B[39;00m \u001B[38;5;129;01mnot\u001B[39;00m mapper\u001B[38;5;241m.\u001B[39mconfigured:\n\u001B[1;32m   3565\u001B[0m     \u001B[38;5;28;01mtry\u001B[39;00m:\n",
      "\u001B[0;31mInvalidRequestError\u001B[0m: One or more mappers failed to initialize - can't proceed with initialization of other mappers. Triggering mapper: 'mapped class VehicleUnit->vehicle_unit'. Original exception was: Mapper 'mapped class VehicleModel->vehicle_model' has no property 'vehicle_model'"
     ]
    }
   ],
   "execution_count": 44
  }
 ],
 "metadata": {
  "kernelspec": {
   "display_name": "Python 3",
   "language": "python",
   "name": "python3"
  },
  "language_info": {
   "codemirror_mode": {
    "name": "ipython",
    "version": 2
   },
   "file_extension": ".py",
   "mimetype": "text/x-python",
   "name": "python",
   "nbconvert_exporter": "python",
   "pygments_lexer": "ipython2",
   "version": "2.7.6"
  }
 },
 "nbformat": 4,
 "nbformat_minor": 5
}
