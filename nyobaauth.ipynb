{
 "cells": [
  {
   "metadata": {
    "ExecuteTime": {
     "end_time": "2025-01-12T14:16:56.069756Z",
     "start_time": "2025-01-12T14:16:55.782124Z"
    }
   },
   "cell_type": "code",
   "source": [
    "from dotenv import load_dotenv\n",
    "import os\n",
    "from supabase import create_client, Client\n",
    "\n",
    "load_dotenv()\n",
    "SUPABASE_URL = os.environ.get(\"SUPABASE_URL\")\n",
    "SUPABASE_KEY = os.environ.get(\"SUPABASE_KEY\")\n",
    "supabase: Client = create_client(SUPABASE_URL, SUPABASE_KEY)"
   ],
   "id": "793a49040d5bf3b9",
   "outputs": [],
   "execution_count": 1
  },
  {
   "metadata": {
    "ExecuteTime": {
     "end_time": "2025-01-12T14:17:36.977944Z",
     "start_time": "2025-01-12T14:17:28.931102Z"
    }
   },
   "cell_type": "code",
   "source": [
    "data = supabase.auth.sign_up({\n",
    "    'email': 'ptrkhh@outlook.com',\n",
    "    'password': 'example-password',\n",
    "    'options': {\n",
    "        'email_redirect_to': 'https://example.com/welcome',\n",
    "    },\n",
    "})"
   ],
   "id": "edbc9909a616c2cb",
   "outputs": [],
   "execution_count": 4
  },
  {
   "metadata": {
    "ExecuteTime": {
     "end_time": "2025-01-12T14:17:37.003504Z",
     "start_time": "2025-01-12T14:17:36.996359Z"
    }
   },
   "cell_type": "code",
   "source": "print(data.dict())",
   "id": "8cc7164d9bee725b",
   "outputs": [
    {
     "name": "stdout",
     "output_type": "stream",
     "text": [
      "{'user': {'id': 'e666b3df-d0e7-47bc-858e-641270d88337', 'app_metadata': {'provider': 'email', 'providers': ['email']}, 'user_metadata': {}, 'aud': 'authenticated', 'confirmation_sent_at': datetime.datetime(2025, 1, 12, 14, 17, 38, 370267, tzinfo=datetime.timezone.utc), 'recovery_sent_at': datetime.datetime(2024, 12, 24, 13, 8, 41, 555390, tzinfo=datetime.timezone.utc), 'email_change_sent_at': None, 'new_email': None, 'new_phone': None, 'invited_at': None, 'action_link': None, 'email': 'ptrkhh@outlook.com', 'phone': '', 'created_at': datetime.datetime(2025, 1, 12, 14, 17, 38, 370267, tzinfo=datetime.timezone.utc), 'confirmed_at': None, 'email_confirmed_at': None, 'phone_confirmed_at': None, 'last_sign_in_at': None, 'role': '', 'updated_at': datetime.datetime(2025, 1, 12, 14, 17, 38, 370267, tzinfo=datetime.timezone.utc), 'identities': [], 'is_anonymous': False, 'factors': None}, 'session': None}\n"
     ]
    }
   ],
   "execution_count": 5
  },
  {
   "metadata": {},
   "cell_type": "code",
   "outputs": [],
   "execution_count": null,
   "source": [
    "data = supabase.auth.sign_in_with_password({\n",
    "    'email': 'ptrkhh@outlook.com',\n",
    "    'password': 'example-password',\n",
    "})"
   ],
   "id": "363b3725203a6f5f"
  },
  {
   "metadata": {},
   "cell_type": "code",
   "outputs": [],
   "execution_count": null,
   "source": [
    "response = supabase.auth.sign_in_with_otp({\n",
    "    'email': 'ptrkhh@outlook.com',\n",
    "    'options': {\n",
    "        # set this to false if you do not want the user to be automatically signed up\n",
    "        'should_create_user': False,\n",
    "    },\n",
    "})"
   ],
   "id": "e14032e3f736065b"
  },
  {
   "metadata": {},
   "cell_type": "code",
   "outputs": [],
   "execution_count": null,
   "source": [
    "response = supabase.auth.verify_otp({\n",
    "    'email': \"ptrkhh@outlook.com\",\n",
    "    'token': '353451',\n",
    "    'type': 'email',\n",
    "})"
   ],
   "id": "acb9316ecc10a98"
  },
  {
   "metadata": {},
   "cell_type": "code",
   "outputs": [],
   "execution_count": null,
   "source": [
    "response = supabase.auth.sign_in_with_otp({\n",
    "    'phone': '+628997827272',\n",
    "})\n"
   ],
   "id": "fb001ee9bd37350f"
  }
 ],
 "metadata": {
  "kernelspec": {
   "display_name": "Python 3",
   "language": "python",
   "name": "python3"
  },
  "language_info": {
   "codemirror_mode": {
    "name": "ipython",
    "version": 2
   },
   "file_extension": ".py",
   "mimetype": "text/x-python",
   "name": "python",
   "nbconvert_exporter": "python",
   "pygments_lexer": "ipython2",
   "version": "2.7.6"
  }
 },
 "nbformat": 4,
 "nbformat_minor": 5
}
